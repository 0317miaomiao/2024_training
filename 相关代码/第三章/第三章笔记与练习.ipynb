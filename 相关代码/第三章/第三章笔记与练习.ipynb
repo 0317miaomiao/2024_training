{
 "cells": [
  {
   "cell_type": "markdown",
   "id": "97150d0c",
   "metadata": {},
   "source": [
    "## 3.1 列表是什么"
   ]
  },
  {
   "cell_type": "markdown",
   "id": "362487f4",
   "metadata": {},
   "source": [
    "### 3.1.1 练习"
   ]
  },
  {
   "cell_type": "code",
   "execution_count": 1,
   "id": "44c3559a",
   "metadata": {},
   "outputs": [
    {
     "name": "stdout",
     "output_type": "stream",
     "text": [
      "Alice\n",
      "Bob\n",
      "Charlie\n",
      "David\n",
      "Eva\n"
     ]
    }
   ],
   "source": [
    "#1 \n",
    "# 将一些朋友的姓名存储在一个列表中\n",
    "names = [\"Alice\", \"Bob\", \"Charlie\", \"David\", \"Eva\"]\n",
    "\n",
    "# 依次访问列表的每个元素，并打印每个朋友的姓名\n",
    "for name in names:\n",
    "    print(name)"
   ]
  },
  {
   "cell_type": "code",
   "execution_count": 2,
   "id": "2c159fe2",
   "metadata": {},
   "outputs": [
    {
     "name": "stdout",
     "output_type": "stream",
     "text": [
      "Hello Alice, hope you are having a great day!\n",
      "Hello Bob, hope you are having a great day!\n",
      "Hello Charlie, hope you are having a great day!\n",
      "Hello David, hope you are having a great day!\n",
      "Hello Eva, hope you are having a great day!\n"
     ]
    }
   ],
   "source": [
    "# 2\n",
    "\n",
    "# 依次访问列表的每个元素，并为每个朋友打印一条包含问候语的消息\n",
    "for name in names:\n",
    "    message = f\"Hello {name}, hope you are having a great day!\"\n",
    "    print(message)"
   ]
  },
  {
   "cell_type": "code",
   "execution_count": 3,
   "id": "d5142be8",
   "metadata": {},
   "outputs": [
    {
     "name": "stdout",
     "output_type": "stream",
     "text": [
      "I would like to own a Honda motorcycle\n",
      "I would like to own a Tesla car\n",
      "I would like to own a Giant bicycle\n",
      "I would like to own a Yamaha scooter\n",
      "I would like to own a BMW motorcycle\n"
     ]
    }
   ],
   "source": [
    "# 3\n",
    "\n",
    "# 创建一个包含多种通勤方式的列表\n",
    "commute_modes = [\"Honda motorcycle\", \"Tesla car\", \"Giant bicycle\", \"Yamaha scooter\", \"BMW motorcycle\"]\n",
    "\n",
    "# 根据该列表打印一系列有关这些通勤方式的陈述\n",
    "for mode in commute_modes:\n",
    "    print(f\"I would like to own a {mode}\")"
   ]
  },
  {
   "cell_type": "markdown",
   "id": "8d4e2d68",
   "metadata": {},
   "source": [
    "## 3.2 修改、添加和删除元素"
   ]
  },
  {
   "cell_type": "markdown",
   "id": "21ab319b",
   "metadata": {},
   "source": [
    "## 3.2.1 在列表中插⼊元素"
   ]
  },
  {
   "cell_type": "code",
   "execution_count": 5,
   "id": "9790a6e7",
   "metadata": {},
   "outputs": [
    {
     "name": "stdout",
     "output_type": "stream",
     "text": [
      "['ducati', 'honda', 'yamaha', 'suzuki']\n"
     ]
    }
   ],
   "source": [
    "# 使用insert在列表的任意位置添加新元素\n",
    "\n",
    "motorcycles = ['honda', 'yamaha', 'suzuki'] \n",
    "\n",
    "#在首位插入元素\n",
    "motorcycles.insert(0, 'ducati') \n",
    "print(motorcycles) "
   ]
  },
  {
   "cell_type": "markdown",
   "id": "b68e3dfd",
   "metadata": {},
   "source": [
    "### 3.2.2 从列表中删除元素"
   ]
  },
  {
   "cell_type": "code",
   "execution_count": 6,
   "id": "34d43bd2",
   "metadata": {},
   "outputs": [
    {
     "name": "stdout",
     "output_type": "stream",
     "text": [
      "['yamaha', 'suzuki']\n"
     ]
    }
   ],
   "source": [
    "# 1. 使用del 来删除元素\n",
    "\n",
    "motorcycles = ['honda', 'yamaha', 'suzuki']\n",
    "\n",
    "# 注意此时要知道被删除元素的位置\n",
    "del motorcycles[0] \n",
    "print(motorcycles) "
   ]
  },
  {
   "cell_type": "code",
   "execution_count": 7,
   "id": "dd203205",
   "metadata": {},
   "outputs": [
    {
     "name": "stdout",
     "output_type": "stream",
     "text": [
      "['honda', 'yamaha']\n",
      "suzuki\n"
     ]
    }
   ],
   "source": [
    "# 2. 使用pop来删除元素\n",
    "\n",
    "# 删除的是末尾的元素,但也可以再在括号内指定位置\n",
    "\n",
    "motorcycles = ['honda', 'yamaha', 'suzuki']\n",
    "\n",
    "# 使用pop进行删除， 并且删除的元素会被存入1motocycles_cut\n",
    "motorcycles_cut = motorcycles.pop()\n",
    "print(motorcycles)\n",
    "print(motorcycles_cut)"
   ]
  },
  {
   "cell_type": "markdown",
   "id": "ea06c125",
   "metadata": {},
   "source": [
    "### 3.2.3 练习"
   ]
  },
  {
   "cell_type": "code",
   "execution_count": 19,
   "id": "7230e244",
   "metadata": {},
   "outputs": [
    {
     "name": "stdout",
     "output_type": "stream",
     "text": [
      "Dear Albert, I would be honored to have you join me for dinner.\n",
      "Dear Mari, I would be honored to have you join me for dinner.\n",
      "Dear Leonardo, I would be honored to have you join me for dinner.\n"
     ]
    }
   ],
   "source": [
    "# 1 \n",
    "# 创建一个列表，包含至少三个你想邀请的人\n",
    "guest_list = [\"Albert\", \"Mari\", \"Leonardo\"]\n",
    "\n",
    "# 依次访问列表的每个元素，并打印邀请消息\n",
    "for guest in guest_list:\n",
    "    message = f\"Dear {guest}, I would be honored to have you join me for dinner.\"\n",
    "    print(message)"
   ]
  },
  {
   "cell_type": "code",
   "execution_count": 20,
   "id": "51af057f",
   "metadata": {},
   "outputs": [
    {
     "name": "stdout",
     "output_type": "stream",
     "text": [
      "Albert can not attend dinner\n",
      "Dear David, I would be honored to have you join me for dinner.\n",
      "Dear Mari, I would be honored to have you join me for dinner.\n",
      "Dear Leonardo, I would be honored to have you join me for dinner.\n"
     ]
    }
   ],
   "source": [
    "# 2\n",
    "\n",
    "# 确定哪位嘉宾无法赴约\n",
    "unable_to_attend = \"Albert\"\n",
    "print(f\"{unable_to_attend} can not attend dinner\")\n",
    "\n",
    "# 确定新嘉宾的名单\n",
    "new_attend = \"David\"\n",
    "\n",
    "# 修改嘉宾名单，替换无法赴约的嘉宾\n",
    "guest_list[guest_list.index(unable_to_attend)] = new_attend\n",
    "\n",
    "# 再次打印邀请消息\n",
    "for guest in guest_list:\n",
    "    message = f\"Dear {guest}, I would be honored to have you join me for dinner.\"\n",
    "    print(message)"
   ]
  },
  {
   "cell_type": "code",
   "execution_count": 21,
   "id": "4b35474c",
   "metadata": {},
   "outputs": [
    {
     "name": "stdout",
     "output_type": "stream",
     "text": [
      "['Cat', 'David', 'Dog', 'Mari', 'Leonardo', 'Mouse']\n"
     ]
    }
   ],
   "source": [
    "# 3\n",
    "\n",
    "#添加至开头\n",
    "guest_list.insert(0, \"Cat\")\n",
    "\n",
    "# 添加至中间\n",
    "guest_list.insert(2, \"Dog\")\n",
    "\n",
    "# 末尾\n",
    "guest_list.append(\"Mouse\")\n",
    "\n",
    "print(guest_list)"
   ]
  },
  {
   "cell_type": "code",
   "execution_count": 22,
   "id": "c3305a7f",
   "metadata": {},
   "outputs": [
    {
     "name": "stdout",
     "output_type": "stream",
     "text": [
      "Unfortunately, the new dining table won't arrive in time, so I can only invite two guests.\n",
      "\n",
      "Dear Mouse, I am very sorry, but I can no longer invite you to dinner.\n",
      "Dear Leonardo, I am very sorry, but I can no longer invite you to dinner.\n",
      "Dear Mari, I am very sorry, but I can no longer invite you to dinner.\n",
      "Dear Dog, I am very sorry, but I can no longer invite you to dinner.\n",
      "Dear Cat, you are still invited to dinner.\n",
      "Dear David, you are still invited to dinner.\n",
      "\n",
      "Final guest list: []\n"
     ]
    }
   ],
   "source": [
    "# 4\n",
    "\n",
    "# 指出你只能邀请两位嘉宾共进晚餐\n",
    "print(\"Unfortunately, the new dining table won't arrive in time, so I can only invite two guests.\\n\")\n",
    "\n",
    "# 不断地删除名单中的嘉宾，直到只有两位嘉宾为止\n",
    "while len(guest_list) > 2:\n",
    "    removed_guest = guest_list.pop()\n",
    "    print(f\"Dear {removed_guest}, I am very sorry, but I can no longer invite you to dinner.\")\n",
    "\n",
    "# 对于余下两位嘉宾，打印消息指出他们依然在受邀之列\n",
    "for guest in guest_list:\n",
    "    print(f\"Dear {guest}, you are still invited to dinner.\")\n",
    "\n",
    "# 使用 del 将最后两位嘉宾从名单中删除，让名单变成空的\n",
    "del guest_list[0]\n",
    "del guest_list[0]\n",
    "\n",
    "# 打印该名单，核实名单在程序结束时确实是空的\n",
    "print(f\"\\nFinal guest list: {guest_list}\")"
   ]
  },
  {
   "cell_type": "markdown",
   "id": "d3cdaaa0",
   "metadata": {},
   "source": [
    "## 3.3 管理列表"
   ]
  },
  {
   "cell_type": "markdown",
   "id": "e2935707",
   "metadata": {},
   "source": [
    "### 3.3.1 使⽤sort() ⽅法对列表进⾏永久排序"
   ]
  },
  {
   "cell_type": "code",
   "execution_count": 23,
   "id": "af23e70d",
   "metadata": {},
   "outputs": [
    {
     "name": "stdout",
     "output_type": "stream",
     "text": [
      "['audi', 'bmw', 'subaru', 'toyota']\n"
     ]
    }
   ],
   "source": [
    "# 注意！这种排序的改变是永久的\n",
    "cars = ['bmw', 'audi', 'toyota', 'subaru'] \n",
    "cars.sort() \n",
    "print(cars)"
   ]
  },
  {
   "cell_type": "markdown",
   "id": "a43fb07f",
   "metadata": {},
   "source": [
    "### 3.3.2 使用sorted函数对列表进行暂时排序"
   ]
  },
  {
   "cell_type": "code",
   "execution_count": 24,
   "id": "78caed99",
   "metadata": {},
   "outputs": [
    {
     "name": "stdout",
     "output_type": "stream",
     "text": [
      "Here is the original list:\n",
      "['bmw', 'audi', 'toyota', 'subaru']\n",
      "\n",
      "Here is the sorted list:\n",
      "['audi', 'bmw', 'subaru', 'toyota']\n",
      "\n",
      "Here is the original list again:\n",
      "['bmw', 'audi', 'toyota', 'subaru']\n"
     ]
    }
   ],
   "source": [
    "cars = ['bmw', 'audi', 'toyota', 'subaru']\n",
    "\n",
    "print(\"Here is the original list:\") \n",
    "print(cars) \n",
    "\n",
    "print(\"\\nHere is the sorted list:\") \n",
    "print(sorted(cars)) \n",
    "\n",
    "print(\"\\nHere is the original list again:\") \n",
    "print(cars)"
   ]
  },
  {
   "cell_type": "markdown",
   "id": "ce7a4336",
   "metadata": {},
   "source": [
    "### 3.3.3 练习"
   ]
  },
  {
   "cell_type": "code",
   "execution_count": 25,
   "id": "608493ce",
   "metadata": {},
   "outputs": [
    {
     "name": "stdout",
     "output_type": "stream",
     "text": [
      "原始列表：\n",
      "['Kyoto', 'New York', 'Paris', 'Sydney', 'Cape Town']\n",
      "\n",
      "按字母顺序排列（不修改原列表）：\n",
      "['Cape Town', 'Kyoto', 'New York', 'Paris', 'Sydney']\n",
      "\n",
      "再次打印原始列表，核实未变：\n",
      "['Kyoto', 'New York', 'Paris', 'Sydney', 'Cape Town']\n",
      "\n",
      "按与字母顺序相反的顺序排列（不修改原列表）：\n",
      "['Sydney', 'Paris', 'New York', 'Kyoto', 'Cape Town']\n",
      "\n",
      "再次打印原始列表，核实未变：\n",
      "['Kyoto', 'New York', 'Paris', 'Sydney', 'Cape Town']\n",
      "\n",
      "使用 reverse() 修改排列顺序：\n",
      "['Cape Town', 'Sydney', 'Paris', 'New York', 'Kyoto']\n",
      "\n",
      "使用 reverse() 恢复原来的排列顺序：\n",
      "['Kyoto', 'New York', 'Paris', 'Sydney', 'Cape Town']\n",
      "\n",
      "使用 sort() 按字母顺序排列：\n",
      "['Cape Town', 'Kyoto', 'New York', 'Paris', 'Sydney']\n",
      "\n",
      "使用 sort() 按与字母顺序相反的顺序排列：\n",
      "['Sydney', 'Paris', 'New York', 'Kyoto', 'Cape Town']\n"
     ]
    }
   ],
   "source": [
    "# 1\n",
    "\n",
    "# 将一些想去旅游的地方存储在一个列表中\n",
    "places_to_visit = [\"Kyoto\", \"New York\", \"Paris\", \"Sydney\", \"Cape Town\"]\n",
    "\n",
    "# 按原始排列顺序打印该列表\n",
    "print(\"原始列表：\")\n",
    "print(places_to_visit)\n",
    "\n",
    "# 使用 sorted() 按字母顺序打印这个列表，不要修改它\n",
    "print(\"\\n按字母顺序排列（不修改原列表）：\")\n",
    "print(sorted(places_to_visit))\n",
    "\n",
    "# 再次打印该列表，核实排列顺序未变\n",
    "print(\"\\n再次打印原始列表，核实未变：\")\n",
    "print(places_to_visit)\n",
    "\n",
    "# 使用 sorted() 按与字母顺序相反的顺序打印这个列表，不要修改它\n",
    "print(\"\\n按与字母顺序相反的顺序排列（不修改原列表）：\")\n",
    "print(sorted(places_to_visit, reverse=True))\n",
    "\n",
    "# 再次打印该列表，核实排列顺序未变\n",
    "print(\"\\n再次打印原始列表，核实未变：\")\n",
    "print(places_to_visit)\n",
    "\n",
    "# 使用 reverse() 修改列表元素的排列顺序\n",
    "places_to_visit.reverse()\n",
    "print(\"\\n使用 reverse() 修改排列顺序：\")\n",
    "print(places_to_visit)\n",
    "\n",
    "# 使用 reverse() 再次修改列表元素的排列顺序\n",
    "places_to_visit.reverse()\n",
    "print(\"\\n使用 reverse() 恢复原来的排列顺序：\")\n",
    "print(places_to_visit)\n",
    "\n",
    "# 使用 sort() 修改该列表，使其元素按字母顺序排列\n",
    "places_to_visit.sort()\n",
    "print(\"\\n使用 sort() 按字母顺序排列：\")\n",
    "print(places_to_visit)\n",
    "\n",
    "# 使用 sort() 修改该列表，使其元素按与字母顺序相反的顺序排列\n",
    "places_to_visit.sort(reverse=True)\n",
    "print(\"\\n使用 sort() 按与字母顺序相反的顺序排列：\")\n",
    "print(places_to_visit)"
   ]
  },
  {
   "cell_type": "code",
   "execution_count": null,
   "id": "fc6b29ee",
   "metadata": {},
   "outputs": [],
   "source": []
  }
 ],
 "metadata": {
  "kernelspec": {
   "display_name": "Python 3 (ipykernel)",
   "language": "python",
   "name": "python3"
  },
  "language_info": {
   "codemirror_mode": {
    "name": "ipython",
    "version": 3
   },
   "file_extension": ".py",
   "mimetype": "text/x-python",
   "name": "python",
   "nbconvert_exporter": "python",
   "pygments_lexer": "ipython3",
   "version": "3.10.9"
  }
 },
 "nbformat": 4,
 "nbformat_minor": 5
}
