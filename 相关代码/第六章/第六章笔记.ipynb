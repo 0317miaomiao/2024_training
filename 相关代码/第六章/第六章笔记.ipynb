{
 "cells": [
  {
   "cell_type": "markdown",
   "id": "827b91e4",
   "metadata": {},
   "source": [
    "## 6.1 使用字典"
   ]
  },
  {
   "cell_type": "markdown",
   "id": "4ea1c6ba",
   "metadata": {},
   "source": [
    "### 6.1.1 添加键值对"
   ]
  },
  {
   "cell_type": "code",
   "execution_count": 1,
   "id": "09b4a7c0",
   "metadata": {},
   "outputs": [
    {
     "name": "stdout",
     "output_type": "stream",
     "text": [
      "{'color': 'green', 'points': 5}\n",
      "{'color': 'green', 'points': 5, 'x_position': 0, 'y_position': 25}\n"
     ]
    }
   ],
   "source": [
    "alien_0 = {'color': 'green', 'points': 5} \n",
    "print(alien_0)\n",
    "\n",
    "# 直接在其中进行添加\n",
    "alien_0['x_position'] = 0 \n",
    "alien_0['y_position'] = 25 \n",
    "print(alien_0) "
   ]
  },
  {
   "cell_type": "markdown",
   "id": "b9a00fba",
   "metadata": {},
   "source": [
    "### 6.1.2 修改字典中的值"
   ]
  },
  {
   "cell_type": "code",
   "execution_count": 12,
   "id": "181e9022",
   "metadata": {},
   "outputs": [
    {
     "name": "stdout",
     "output_type": "stream",
     "text": [
      "The alien is green.\n",
      "The alien is now yellow.\n",
      "{'x_position': 2}\n"
     ]
    }
   ],
   "source": [
    "alien_0 = {'color': 'green'} \n",
    "print(f\"The alien is {alien_0['color']}.\") \n",
    "\n",
    "# 直接进行修改\n",
    "alien_0['color'] = 'yellow' \n",
    "print(f\"The alien is now {alien_0['color']}.\")\n",
    "\n",
    "# 除此之外，还可以迭代修改\n",
    "alien_0 = {'x_position': 1}\n",
    "alien_0['x_position'] =  alien_0['x_position'] + 1\n",
    "print(alien_0)"
   ]
  },
  {
   "cell_type": "markdown",
   "id": "04b8f84b",
   "metadata": {},
   "source": [
    "### 6.1.3 删除键值对"
   ]
  },
  {
   "cell_type": "code",
   "execution_count": 14,
   "id": "02f71134",
   "metadata": {},
   "outputs": [
    {
     "name": "stdout",
     "output_type": "stream",
     "text": [
      "{'color': 'green', 'points': 5}\n",
      "{'color': 'green'}\n"
     ]
    }
   ],
   "source": [
    "alien_0 = {'color': 'green', 'points': 5} \n",
    "print(alien_0)\n",
    "del alien_0['points'] \n",
    "print(alien_0)"
   ]
  },
  {
   "cell_type": "markdown",
   "id": "348260a2",
   "metadata": {},
   "source": [
    "### 6.1.4 使用get() 来访问值"
   ]
  },
  {
   "cell_type": "code",
   "execution_count": 15,
   "id": "50ae3921",
   "metadata": {},
   "outputs": [
    {
     "name": "stdout",
     "output_type": "stream",
     "text": [
      "No point value assigned.\n"
     ]
    }
   ],
   "source": [
    "# 这种方法可以避免因为没有键值而出错\n",
    "alien_0 = {'color': 'green', 'speed': 'slow'} \n",
    "point_value = alien_0.get('points', 'No point value assigned.') \n",
    "print(point_value) "
   ]
  },
  {
   "cell_type": "markdown",
   "id": "80e51680",
   "metadata": {},
   "source": [
    "### 6.1.5 练习"
   ]
  },
  {
   "cell_type": "code",
   "execution_count": 16,
   "id": "73ed5660",
   "metadata": {},
   "outputs": [
    {
     "name": "stdout",
     "output_type": "stream",
     "text": [
      "variable:\n",
      "\tA storage location in programming that holds a value.\n",
      "\n",
      "function:\n",
      "\tA block of code that performs a specific task and can be called when needed.\n",
      "\n",
      "loop:\n",
      "\tA sequence of instructions that is continually repeated until a certain condition is reached.\n",
      "\n",
      "list:\n",
      "\tA collection of items in a particular order.\n",
      "\n",
      "dictionary:\n",
      "\tA collection of key-value pairs, where each key is associated with a value.\n",
      "\n"
     ]
    }
   ],
   "source": [
    "# 1\n",
    "# 创建一个词汇表字典，包含编程术语及其含义\n",
    "vocabulary = {\n",
    "    \"variable\": \"A storage location in programming that holds a value.\",\n",
    "    \"function\": \"A block of code that performs a specific task and can be called when needed.\",\n",
    "    \"loop\": \"A sequence of instructions that is continually repeated until a certain condition is reached.\",\n",
    "    \"list\": \"A collection of items in a particular order.\",\n",
    "    \"dictionary\": \"A collection of key-value pairs, where each key is associated with a value.\"\n",
    "}\n",
    "\n",
    "# 以整洁的方式打印每个术语及其含义，用items可以来两个一次遍历\n",
    "for term, definition in vocabulary.items():\n",
    "    print(f\"{term}:\\n\\t{definition}\\n\")"
   ]
  },
  {
   "cell_type": "markdown",
   "id": "85f2d8aa",
   "metadata": {},
   "source": [
    "## 6.2 遍历字典"
   ]
  },
  {
   "cell_type": "markdown",
   "id": "0a9bf526",
   "metadata": {},
   "source": [
    "### 6.2.1 遍历字典中的所有键"
   ]
  },
  {
   "cell_type": "code",
   "execution_count": 18,
   "id": "6ac19f67",
   "metadata": {},
   "outputs": [
    {
     "name": "stdout",
     "output_type": "stream",
     "text": [
      "Jen\n",
      "Sarah\n",
      "Edward\n",
      "Phil\n"
     ]
    }
   ],
   "source": [
    "favorite_languages = { \n",
    "    'jen': 'python', \n",
    "    'sarah': 'c', \n",
    "    'edward': 'rust', \n",
    "    'phil': 'python', \n",
    "    } \n",
    "for name in favorite_languages.keys(): \n",
    "    print(name.title())"
   ]
  },
  {
   "cell_type": "markdown",
   "id": "e696e816",
   "metadata": {},
   "source": [
    "按特定的顺序遍历字典中的所有键"
   ]
  },
  {
   "cell_type": "code",
   "execution_count": 19,
   "id": "83479738",
   "metadata": {},
   "outputs": [
    {
     "name": "stdout",
     "output_type": "stream",
     "text": [
      "Edward, thank you for taking the poll.\n",
      "Jen, thank you for taking the poll.\n",
      "Phil, thank you for taking the poll.\n",
      "Sarah, thank you for taking the poll.\n"
     ]
    }
   ],
   "source": [
    "favorite_languages = { \n",
    "    'jen': 'python', \n",
    "    'sarah': 'c', \n",
    "    'edward': 'rust', \n",
    "    'phil': 'python', \n",
    "    } \n",
    "for name in sorted(favorite_languages.keys()): \n",
    "    print(f\"{name.title()}, thank you for taking the poll.\")"
   ]
  },
  {
   "cell_type": "markdown",
   "id": "f5cd963b",
   "metadata": {},
   "source": [
    "### 6.2.2 遍历字典中的所有值"
   ]
  },
  {
   "cell_type": "code",
   "execution_count": 20,
   "id": "4329f49e",
   "metadata": {},
   "outputs": [
    {
     "name": "stdout",
     "output_type": "stream",
     "text": [
      "The following languages have been mentioned:\n",
      "Python\n",
      "C\n",
      "Rust\n",
      "Python\n",
      "The following languages have been mentioned:\n",
      "C\n",
      "Python\n",
      "Rust\n"
     ]
    }
   ],
   "source": [
    "favorite_languages = { \n",
    "    'jen': 'python', \n",
    "    'sarah': 'c', \n",
    "    'edward': 'rust', \n",
    "    'phil': 'python', \n",
    "    } \n",
    " \n",
    "print(\"The following languages have been mentioned:\") \n",
    "for language in favorite_languages.values(): \n",
    "    print(language.title())\n",
    "    \n",
    "# 如果要去重\n",
    "print(\"The following languages have been mentioned:\") \n",
    "for language in set(favorite_languages.values()): \n",
    "    print(language.title()) "
   ]
  },
  {
   "cell_type": "markdown",
   "id": "98161977",
   "metadata": {},
   "source": [
    "### 6.2.3 练习"
   ]
  },
  {
   "cell_type": "code",
   "execution_count": 22,
   "id": "807b9d0d",
   "metadata": {},
   "outputs": [
    {
     "name": "stdout",
     "output_type": "stream",
     "text": [
      "The Nile runs through Egypt.\n",
      "The Amazon runs through Brazil.\n",
      "The Yangtze runs through China.\n",
      "Rivers:\n",
      "Nile\n",
      "Amazon\n",
      "Yangtze\n",
      "Countries:\n",
      "Egypt\n",
      "Brazil\n",
      "China\n"
     ]
    }
   ],
   "source": [
    "# 1\n",
    "# 创建一个字典，存储三条河流及其流经的国家\n",
    "rivers = {\n",
    "    'nile': 'egypt',\n",
    "    'amazon': 'brazil',\n",
    "    'yangtze': 'china'\n",
    "}\n",
    "\n",
    "# 使用循环为每条河流打印一条消息\n",
    "for river, country in rivers.items():\n",
    "    print(f\"The {river.title()} runs through {country.title()}.\")\n",
    "\n",
    "# 使用循环将该字典中每条河流的名字打印出来\n",
    "print(\"Rivers:\")\n",
    "for river in rivers.keys():\n",
    "    print(river.title())\n",
    "\n",
    "# 使用循环将该字典包含的每个国家的名字打印出来\n",
    "print(\"Countries:\")\n",
    "for country in rivers.values():\n",
    "    print(country.title())"
   ]
  },
  {
   "cell_type": "markdown",
   "id": "abb99bf1",
   "metadata": {},
   "source": [
    "## 6.3 嵌套"
   ]
  },
  {
   "cell_type": "markdown",
   "id": "f15fa71c",
   "metadata": {},
   "source": [
    "### 6.3.1 字典列表（即将字典放入列表中）"
   ]
  },
  {
   "cell_type": "code",
   "execution_count": 24,
   "id": "eaf67555",
   "metadata": {},
   "outputs": [
    {
     "name": "stdout",
     "output_type": "stream",
     "text": [
      "{'color': 'green', 'points': 5, 'speed': 'slow'}\n",
      "{'color': 'green', 'points': 5, 'speed': 'slow'}\n",
      "{'color': 'green', 'points': 5, 'speed': 'slow'}\n",
      "{'color': 'green', 'points': 5, 'speed': 'slow'}\n",
      "{'color': 'green', 'points': 5, 'speed': 'slow'}\n"
     ]
    }
   ],
   "source": [
    "aliens = []\n",
    "\n",
    "# 创建30 个绿⾊的外星⼈\n",
    "for alien_number in range(30):\n",
    "    new_alien = {'color': 'green', 'points': 5, 'speed': 'slow'} \n",
    "    aliens.append(new_alien) \n",
    "\n",
    "for alien in aliens[:5]: \n",
    "    print(alien) "
   ]
  },
  {
   "cell_type": "code",
   "execution_count": 25,
   "id": "ea13209e",
   "metadata": {},
   "outputs": [],
   "source": [
    "# 此时可以对每个字典分别进行修改\n",
    "for alien in aliens[:3]: \n",
    "    if alien['color'] == 'green': \n",
    "        alien['color'] = 'yellow' \n",
    "        alien['speed'] = 'medium' \n",
    "        alien['points'] = 10 "
   ]
  },
  {
   "cell_type": "markdown",
   "id": "859e03ee",
   "metadata": {},
   "source": [
    "### 6.3.2 在字典中存储列表"
   ]
  },
  {
   "cell_type": "code",
   "execution_count": 27,
   "id": "1d45f289",
   "metadata": {},
   "outputs": [],
   "source": [
    "# 存储顾客所点⽐萨的信息\n",
    "pizza = { \n",
    "      'crust': 'thick', \n",
    "      'toppings': ['mushrooms', 'extra cheese'], \n",
    "      } "
   ]
  },
  {
   "cell_type": "markdown",
   "id": "35244022",
   "metadata": {},
   "source": [
    "### 6.3.3 在字典中存储字典"
   ]
  },
  {
   "cell_type": "code",
   "execution_count": 28,
   "id": "a728db3d",
   "metadata": {},
   "outputs": [],
   "source": [
    "users = { \n",
    "      'aeinstein': { \n",
    "          'first': 'albert', \n",
    "          'last': 'einstein', \n",
    "          'location': 'princeton', \n",
    "          }, \n",
    " \n",
    "      'mcurie': { \n",
    "          'first': 'marie', \n",
    "          'last': 'curie', \n",
    "          'location': 'paris', \n",
    "          }, \n",
    "      } "
   ]
  },
  {
   "cell_type": "markdown",
   "id": "e186cf53",
   "metadata": {},
   "source": [
    "### 6.3.4 练习"
   ]
  },
  {
   "cell_type": "code",
   "execution_count": 29,
   "id": "39b62614",
   "metadata": {},
   "outputs": [
    {
     "name": "stdout",
     "output_type": "stream",
     "text": [
      "Pet Type: Dog, Owner: Alice\n",
      "Pet Type: Cat, Owner: Bob\n",
      "Pet Type: Rabbit, Owner: Charlie\n"
     ]
    }
   ],
   "source": [
    "# 1\n",
    "# 创建多个表示宠物的字典，每个字典都包含宠物的类型及其主人的名字\n",
    "pet1 = {'type': 'dog', 'owner': 'Alice'}\n",
    "pet2 = {'type': 'cat', 'owner': 'Bob'}\n",
    "pet3 = {'type': 'rabbit', 'owner': 'Charlie'}\n",
    "\n",
    "# 将这些字典存储在一个名为 pets 的列表中\n",
    "pets = [pet1, pet2, pet3]\n",
    "\n",
    "# 遍历该列表，并将有关每个宠物的所有信息打印出来\n",
    "for pet in pets:\n",
    "    print(f\"Pet Type: {pet['type'].title()}, Owner: {pet['owner'].title()}\")"
   ]
  },
  {
   "cell_type": "code",
   "execution_count": 30,
   "id": "648171f8",
   "metadata": {},
   "outputs": [
    {
     "name": "stdout",
     "output_type": "stream",
     "text": [
      "Alice喜欢的地方有:\n",
      "- Paris\n",
      "- New York\n",
      "- Tokyo\n",
      "\n",
      "\n",
      "Bob喜欢的地方有:\n",
      "- London\n",
      "- Berlin\n",
      "\n",
      "\n",
      "Charlie喜欢的地方有:\n",
      "- Sydney\n",
      "- San Francisco\n",
      "- Rome\n",
      "\n",
      "\n"
     ]
    }
   ],
   "source": [
    "# 2\n",
    "# 创建一个名为 favorite_places 的字典\n",
    "favorite_places = {\n",
    "    'Alice': ['Paris', 'New York', 'Tokyo'],\n",
    "    'Bob': ['London', 'Berlin'],\n",
    "    'Charlie': ['Sydney', 'San Francisco', 'Rome']\n",
    "}\n",
    "\n",
    "# 遍历这个字典，并将其中每个人的名字及其喜欢的地方打印出来\n",
    "for person, places in favorite_places.items():\n",
    "    print(f\"{person}喜欢的地方有:\")\n",
    "    for place in places:\n",
    "        print(f\"- {place}\")\n",
    "    print('\\n')  "
   ]
  },
  {
   "cell_type": "code",
   "execution_count": 31,
   "id": "16c6fbce",
   "metadata": {},
   "outputs": [
    {
     "name": "stdout",
     "output_type": "stream",
     "text": [
      "City: Paris\n",
      "  Country: France\n",
      "  Population: 2.1 million\n",
      "  Fact: Paris is known as the \"City of Light\".\n",
      "\n",
      "City: Tokyo\n",
      "  Country: Japan\n",
      "  Population: 9.3 million\n",
      "  Fact: Tokyo is the largest metropolitan area in the world.\n",
      "\n",
      "City: New York\n",
      "  Country: USA\n",
      "  Population: 8.4 million\n",
      "  Fact: New York is known as \"The Big Apple\".\n",
      "\n"
     ]
    }
   ],
   "source": [
    "# 3\n",
    "# 创建一个名为 cities 的字典，将三个城市名用作键\n",
    "cities = {\n",
    "    'Paris': {\n",
    "        'country': 'France',\n",
    "        'population': '2.1 million',\n",
    "        'fact': 'Paris is known as the \"City of Light\".'\n",
    "    },\n",
    "    'Tokyo': {\n",
    "        'country': 'Japan',\n",
    "        'population': '9.3 million',\n",
    "        'fact': 'Tokyo is the largest metropolitan area in the world.'\n",
    "    },\n",
    "    'New York': {\n",
    "        'country': 'USA',\n",
    "        'population': '8.4 million',\n",
    "        'fact': 'New York is known as \"The Big Apple\".'\n",
    "    }\n",
    "}\n",
    "\n",
    "# 遍历字典，并将每座城市的名字以及相关信息打印出来\n",
    "for city, info in cities.items():\n",
    "    print(f\"City: {city}\")\n",
    "    print(f\"  Country: {info['country']}\")\n",
    "    print(f\"  Population: {info['population']}\")\n",
    "    print(f\"  Fact: {info['fact']}\\n\")"
   ]
  },
  {
   "cell_type": "code",
   "execution_count": null,
   "id": "eccd275e",
   "metadata": {},
   "outputs": [],
   "source": []
  }
 ],
 "metadata": {
  "kernelspec": {
   "display_name": "Python 3 (ipykernel)",
   "language": "python",
   "name": "python3"
  },
  "language_info": {
   "codemirror_mode": {
    "name": "ipython",
    "version": 3
   },
   "file_extension": ".py",
   "mimetype": "text/x-python",
   "name": "python",
   "nbconvert_exporter": "python",
   "pygments_lexer": "ipython3",
   "version": "3.10.9"
  }
 },
 "nbformat": 4,
 "nbformat_minor": 5
}
