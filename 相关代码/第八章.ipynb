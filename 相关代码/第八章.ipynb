{
 "cells": [
  {
   "cell_type": "markdown",
   "id": "87216bc9",
   "metadata": {},
   "source": [
    "## 8.1 传递实参"
   ]
  },
  {
   "cell_type": "markdown",
   "id": "4b4f2057",
   "metadata": {},
   "source": [
    "### 8.1.1 练习"
   ]
  },
  {
   "cell_type": "code",
   "execution_count": 1,
   "id": "b5d6bc10",
   "metadata": {},
   "outputs": [
    {
     "name": "stdout",
     "output_type": "stream",
     "text": [
      "12, fa\n"
     ]
    }
   ],
   "source": [
    "# 1\n",
    "# 定义函数\n",
    "def make_shirt(size, word):\n",
    "    print(f'{size}, {word}')\n",
    "\n",
    "# 调用函数\n",
    "make_shirt(12, 'fa')"
   ]
  },
  {
   "cell_type": "code",
   "execution_count": 2,
   "id": "84b58e59",
   "metadata": {},
   "outputs": [
    {
     "name": "stdout",
     "output_type": "stream",
     "text": [
      "Beijing is in China.\n",
      "Shanghai is in China.\n",
      "Reykjavik is in Iceland.\n"
     ]
    }
   ],
   "source": [
    "# 2\n",
    "# 定义函数，其中country参数有一个默认值\n",
    "def describe_city(city, country='China'):\n",
    "    print(f\"{city} is in {country}.\")\n",
    "\n",
    "# 调用函数\n",
    "describe_city('Beijing')  # 使用默认国家\n",
    "describe_city('Shanghai')  # 使用默认国家\n",
    "describe_city('Reykjavik', 'Iceland')  # 指定国家，不使用默认值"
   ]
  },
  {
   "cell_type": "markdown",
   "id": "bc764f80",
   "metadata": {},
   "source": [
    "## 8.2 返回值"
   ]
  },
  {
   "cell_type": "markdown",
   "id": "b4942e2e",
   "metadata": {},
   "source": [
    "### 8.2.1 让实参变成可选的 ！！！"
   ]
  },
  {
   "cell_type": "code",
   "execution_count": 5,
   "id": "2d5ac5f5",
   "metadata": {},
   "outputs": [
    {
     "name": "stdout",
     "output_type": "stream",
     "text": [
      "Jimi Hendrix\n"
     ]
    }
   ],
   "source": [
    "# 将可选的放在最后面\n",
    "def get_formatted_name(first_name, last_name, middle_name=''): \n",
    "    if middle_name: \n",
    "        full_name = f\"{first_name} {middle_name} {last_name}\" \n",
    "    else: \n",
    "        full_name = f\"{first_name} {last_name}\"\n",
    "    return full_name.title()\n",
    "\n",
    "musician = get_formatted_name('jimi', 'hendrix') \n",
    "print(musician) "
   ]
  },
  {
   "cell_type": "markdown",
   "id": "968851c0",
   "metadata": {},
   "source": [
    "### 8.2.2 练习"
   ]
  },
  {
   "cell_type": "code",
   "execution_count": 6,
   "id": "abbb2f49",
   "metadata": {},
   "outputs": [
    {
     "name": "stdout",
     "output_type": "stream",
     "text": [
      "{'artist': 'Taylor Swift', 'album': 'Folklore'}\n",
      "{'artist': 'Billie Eilish', 'album': 'When We All Fall Asleep, Where Do We Go?'}\n",
      "{'artist': 'Ed Sheeran', 'album': 'Divide', 'songs_num': 16}\n",
      "{'artist': 'Ariana Grande', 'album': 'Thank U, Next', 'songs_num': 12}\n"
     ]
    }
   ],
   "source": [
    "# 1\n",
    "# 定义函数，其中songs_num参数有一个默认值None\n",
    "def make_album(artist_name, album_name, songs_num=None):\n",
    "    album_dict = {'artist': artist_name, 'album': album_name}\n",
    "    if songs_num:\n",
    "        album_dict['songs_num'] = songs_num\n",
    "    return album_dict\n",
    "\n",
    "# 使用函数创建三个字典，并打印每个字典以核实信息\n",
    "album1 = make_album('Taylor Swift', 'Folklore')\n",
    "album2 = make_album('Billie Eilish', 'When We All Fall Asleep, Where Do We Go?')\n",
    "album3 = make_album('Ed Sheeran', 'Divide', songs_num=16)\n",
    "\n",
    "print(album1)\n",
    "print(album2)\n",
    "print(album3)\n",
    "\n",
    "# 进行一次调用，指定专辑包含的歌曲数\n",
    "album4 = make_album('Ariana Grande', 'Thank U, Next', songs_num=12)\n",
    "print(album4)"
   ]
  },
  {
   "cell_type": "code",
   "execution_count": 9,
   "id": "7fdb1c59",
   "metadata": {},
   "outputs": [
    {
     "name": "stdout",
     "output_type": "stream",
     "text": [
      "\n",
      "Please enter the artist name and album name:\n",
      "(enter 'q' at any time to quit)\n",
      "Artist name: q\n"
     ]
    }
   ],
   "source": [
    "# 2\n",
    "def make_album(artist_name, album_name, songs_num=None):\n",
    "    album_dict = {'artist': artist_name, 'album': album_name}\n",
    "    if songs_num:\n",
    "        album_dict['songs_num'] = songs_num\n",
    "    return album_dict\n",
    "\n",
    "# 创建一个无限循环来获取用户输入\n",
    "while True:\n",
    "    print(\"\\nPlease enter the artist name and album name:\")\n",
    "    print(\"(enter 'q' at any time to quit)\")\n",
    "    \n",
    "    artist_name = input(\"Artist name: \")\n",
    "    # 如果用户输入'q'，则退出循环\n",
    "    if artist_name == 'q':\n",
    "        break\n",
    "    \n",
    "    album_name = input(\"Album name: \")\n",
    "    # 如果用户输入'q'，则退出循环\n",
    "    if album_name == 'q':\n",
    "        break\n",
    "    \n",
    "    # 可选：让用户输入歌曲数\n",
    "    songs_num = input(\"Number of songs (optional): \")\n",
    "    if songs_num == 'q':\n",
    "        break\n",
    "    # 如果用户没有输入歌曲数，则调用不带songs_num的函数版本\n",
    "    if songs_num:\n",
    "        album_dict = make_album(artist_name, album_name, int(songs_num))\n",
    "    else:\n",
    "        album_dict = make_album(artist_name, album_name)\n",
    "    \n",
    "    print(album_dict)"
   ]
  },
  {
   "cell_type": "markdown",
   "id": "4e1d3bc8",
   "metadata": {},
   "source": [
    "## 8.3 传递列表"
   ]
  },
  {
   "cell_type": "markdown",
   "id": "72fba863",
   "metadata": {},
   "source": [
    "### 8.3.1 练习"
   ]
  },
  {
   "cell_type": "code",
   "execution_count": 10,
   "id": "2b81c52e",
   "metadata": {},
   "outputs": [
    {
     "name": "stdout",
     "output_type": "stream",
     "text": [
      "Hello there!\n",
      "How are you doing?\n",
      "Python is fun!\n",
      "Have a great day!\n"
     ]
    }
   ],
   "source": [
    "# 1\n",
    "# 定义一个展示消息的函数\n",
    "def show_messages(messages):\n",
    "    for message in messages:\n",
    "        print(message)\n",
    "\n",
    "# 创建一个包含简短文本消息的列表\n",
    "messages = [\"Hello there!\", \"How are you doing?\", \"Python is fun!\", \"Have a great day!\"]\n",
    "\n",
    "# 调用函数并传递之前创建的消息列表\n",
    "show_messages(messages)"
   ]
  },
  {
   "cell_type": "markdown",
   "id": "25168c40",
   "metadata": {},
   "source": [
    "传递一个列表的副本是一个很常用的技巧，一定要注意！！！"
   ]
  },
  {
   "cell_type": "code",
   "execution_count": 11,
   "id": "83a3bb0d",
   "metadata": {},
   "outputs": [
    {
     "name": "stdout",
     "output_type": "stream",
     "text": [
      "The original messages:\n",
      "Hello there!\n",
      "How are you doing?\n",
      "Python is fun!\n",
      "Have a great day!\n",
      "\n",
      "Sending messages...\n",
      "Sending message: Have a great day!\n",
      "Sending message: Python is fun!\n",
      "Sending message: How are you doing?\n",
      "Sending message: Hello there!\n",
      "\n",
      "Final lists:\n",
      "Original messages:\n",
      "['Hello there!', 'How are you doing?', 'Python is fun!', 'Have a great day!']\n",
      "Sent messages:\n",
      "['Have a great day!', 'Python is fun!', 'How are you doing?', 'Hello there!']\n"
     ]
    }
   ],
   "source": [
    "# 2\n",
    "# 定义一个发送消息的函数\n",
    "def send_messages(messages, sent_messages):\n",
    "    while messages:\n",
    "        current_message = messages.pop()\n",
    "        print(f\"Sending message: {current_message}\")\n",
    "        sent_messages.append(current_message)\n",
    "\n",
    "# 创建一个包含简短文本消息的列表\n",
    "messages = [\"Hello there!\", \"How are you doing?\", \"Python is fun!\", \"Have a great day!\"]\n",
    "# 创建一个空列表，用于存储已发送的消息\n",
    "sent_messages = []\n",
    "\n",
    "# 调用展示消息的函数来展示初始列表的消息\n",
    "print(\"The original messages:\")\n",
    "show_messages(messages)\n",
    "\n",
    "# 调用发送消息的函数\n",
    "print(\"\\nSending messages...\")\n",
    "send_messages(messages[:], sent_messages)  # 发送messages的副本以保留原始列表\n",
    "\n",
    "# 打印验证消息是否正确移动\n",
    "print(\"\\nFinal lists:\")\n",
    "print(\"Original messages:\")\n",
    "print(messages)  # 原列表应该保持不变，因为我们传递了它的副本\n",
    "print(\"Sent messages:\")\n",
    "print(sent_messages)  # 新列表应该包括所有被发送的消息"
   ]
  },
  {
   "cell_type": "markdown",
   "id": "65024359",
   "metadata": {},
   "source": [
    "## 8.4 传递任意数量的实参"
   ]
  },
  {
   "cell_type": "markdown",
   "id": "11a59199",
   "metadata": {},
   "source": [
    "### 8.4.1 示例"
   ]
  },
  {
   "cell_type": "code",
   "execution_count": 13,
   "id": "827bcd33",
   "metadata": {},
   "outputs": [
    {
     "name": "stdout",
     "output_type": "stream",
     "text": [
      "\n",
      "Making a pizza with the following toppings:\n",
      "- pepperoni\n",
      "\n",
      "Making a pizza with the following toppings:\n",
      "- mushrooms\n",
      "- green peppers\n",
      "- extra cheese\n"
     ]
    }
   ],
   "source": [
    "# 使用*传递任意数量的参数，参数被放入一个元组之中\n",
    "def make_pizza(*toppings): \n",
    "    print(\"\\nMaking a pizza with the following toppings:\") \n",
    "    for topping in toppings: \n",
    "        print(f\"- {topping}\") \n",
    "make_pizza('pepperoni') \n",
    "make_pizza('mushrooms', 'green peppers', 'extra cheese')"
   ]
  },
  {
   "cell_type": "markdown",
   "id": "6cf45e63",
   "metadata": {},
   "source": [
    "### 8.4.2 使⽤任意数量的关键字实参"
   ]
  },
  {
   "cell_type": "markdown",
   "id": "27f0417d",
   "metadata": {},
   "source": [
    "在预先不知道传递给函数的会是什么样的信息的情况下，用** 来建立一个字典来储存多的信息"
   ]
  },
  {
   "cell_type": "code",
   "execution_count": 14,
   "id": "f1213c9b",
   "metadata": {},
   "outputs": [
    {
     "name": "stdout",
     "output_type": "stream",
     "text": [
      "{'location': 'princeton', 'field': 'physics', 'first_name': 'albert', 'last_name': 'einstein'}\n"
     ]
    }
   ],
   "source": [
    "def build_profile(first, last, **user_info): \n",
    "    user_info['first_name'] = first \n",
    "    user_info['last_name'] = last \n",
    "    return user_info \n",
    "\n",
    "user_profile = build_profile('albert', 'einstein', \n",
    "                               location='princeton', \n",
    "                               field='physics') \n",
    "print(user_profile)"
   ]
  },
  {
   "cell_type": "markdown",
   "id": "52a7c541",
   "metadata": {},
   "source": [
    "### 8.4.3 练习"
   ]
  },
  {
   "cell_type": "code",
   "execution_count": 16,
   "id": "10208af4",
   "metadata": {},
   "outputs": [
    {
     "name": "stdout",
     "output_type": "stream",
     "text": [
      "Making a sandwich with the following ingredients:\n",
      "- ham\n",
      "- cheese\n",
      "- tomato\n",
      "Your sandwich is ready!\n",
      "\n",
      "Making a sandwich with the following ingredients:\n",
      "- turkey\n",
      "- avocado\n",
      "Your sandwich is ready!\n",
      "\n",
      "Making a sandwich with the following ingredients:\n",
      "- chicken\n",
      "- lettuce\n",
      "- mayo\n",
      "- mustard\n",
      "Your sandwich is ready!\n",
      "\n"
     ]
    }
   ],
   "source": [
    "# 1\n",
    "# 定义一个可接受任意数量食材的函数\n",
    "def make_sandwich(*ingredients):\n",
    "    print(\"Making a sandwich with the following ingredients:\")\n",
    "    for ingredient in ingredients:\n",
    "        print(f\"- {ingredient}\")\n",
    "    print(\"Your sandwich is ready!\\n\")\n",
    "\n",
    "# 第一次调用函数，提供三种食材\n",
    "make_sandwich('ham', 'cheese', 'tomato')\n",
    "\n",
    "# 第二次调用函数，提供两种食材\n",
    "make_sandwich('turkey', 'avocado')\n",
    "\n",
    "# 第三次调用函数，提供四种食材\n",
    "make_sandwich('chicken', 'lettuce', 'mayo', 'mustard')"
   ]
  },
  {
   "cell_type": "code",
   "execution_count": 15,
   "id": "f08fb6cf",
   "metadata": {},
   "outputs": [
    {
     "name": "stdout",
     "output_type": "stream",
     "text": [
      "{'location': 'princeton', 'field': 'physics', 'country': 'China', 'first_name': 'Guo', 'last_name': 'Yaohui'}\n"
     ]
    }
   ],
   "source": [
    "# 2\n",
    "# 使用上文已经定义好的函数\n",
    "user_profile = build_profile('Guo', 'Yaohui', \n",
    "                               location='princeton', \n",
    "                               field='physics',\n",
    "                            country = 'China') \n",
    "print(user_profile)"
   ]
  },
  {
   "cell_type": "code",
   "execution_count": 17,
   "id": "2a71af4c",
   "metadata": {},
   "outputs": [
    {
     "data": {
      "text/plain": [
       "{'color': 'blue',\n",
       " 'tow_package': True,\n",
       " 'car_maker': 'subaru',\n",
       " 'typecar': 'outback'}"
      ]
     },
     "execution_count": 17,
     "metadata": {},
     "output_type": "execute_result"
    }
   ],
   "source": [
    "# 3\n",
    "# 定义函数，可以储存任意变量的实参\n",
    "def make_car(maker, type_car, **car_info):\n",
    "    car_info['car_maker'] = maker\n",
    "    car_info['typecar'] = type_car\n",
    "    return car_info\n",
    "\n",
    "# 打印相关值\n",
    "make_car('subaru', 'outback', color='blue', tow_package=True)"
   ]
  },
  {
   "cell_type": "code",
   "execution_count": null,
   "id": "13d5f1d3",
   "metadata": {},
   "outputs": [],
   "source": []
  }
 ],
 "metadata": {
  "kernelspec": {
   "display_name": "Python 3 (ipykernel)",
   "language": "python",
   "name": "python3"
  },
  "language_info": {
   "codemirror_mode": {
    "name": "ipython",
    "version": 3
   },
   "file_extension": ".py",
   "mimetype": "text/x-python",
   "name": "python",
   "nbconvert_exporter": "python",
   "pygments_lexer": "ipython3",
   "version": "3.10.9"
  }
 },
 "nbformat": 4,
 "nbformat_minor": 5
}
