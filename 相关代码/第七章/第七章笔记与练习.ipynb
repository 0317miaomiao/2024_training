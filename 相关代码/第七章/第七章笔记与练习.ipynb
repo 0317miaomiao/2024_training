{
 "cells": [
  {
   "cell_type": "markdown",
   "id": "b700d50d",
   "metadata": {},
   "source": [
    "## 7.1 input() 函数"
   ]
  },
  {
   "cell_type": "markdown",
   "id": "c83d12d4",
   "metadata": {},
   "source": [
    "## 7.1.2 练习"
   ]
  },
  {
   "cell_type": "code",
   "execution_count": 1,
   "id": "5ba2e72b",
   "metadata": {},
   "outputs": [
    {
     "name": "stdout",
     "output_type": "stream",
     "text": [
      "What kind of car would you like to rent? a\n",
      "Let me see if I can find you a A.\n"
     ]
    }
   ],
   "source": [
    "# 1\n",
    "# 询问用户想要租赁什么样的汽车\n",
    "car = input(\"What kind of car would you like to rent? \")\n",
    "\n",
    "# 打印消息\n",
    "print(f\"Let me see if I can find you a {car.title()}.\")"
   ]
  },
  {
   "cell_type": "code",
   "execution_count": 2,
   "id": "f64db302",
   "metadata": {},
   "outputs": [
    {
     "name": "stdout",
     "output_type": "stream",
     "text": [
      "请输入一个数: 1\n",
      "1 不是10的整数倍。\n"
     ]
    }
   ],
   "source": [
    "# 2\n",
    "# 让用户输入一个数\n",
    "num = int(input(\"请输入一个数: \"))\n",
    "\n",
    "# 判断这个数是否是10的整数倍\n",
    "if num % 10 == 0:\n",
    "    print(f\"{num} 是10的整数倍。\")\n",
    "else:\n",
    "    print(f\"{num} 不是10的整数倍。\")"
   ]
  },
  {
   "cell_type": "markdown",
   "id": "d2bf0ae3",
   "metadata": {},
   "source": [
    "## 7.2 while"
   ]
  },
  {
   "cell_type": "code",
   "execution_count": 3,
   "id": "0056005e",
   "metadata": {},
   "outputs": [
    {
     "name": "stdout",
     "output_type": "stream",
     "text": [
      "输入messageda\n",
      "输入messageexit\n"
     ]
    }
   ],
   "source": [
    "# e.g.\n",
    "message = ''\n",
    "while message != 'exit':\n",
    "    message = input(\"输入message\")"
   ]
  },
  {
   "cell_type": "markdown",
   "id": "e3c1e45d",
   "metadata": {},
   "source": [
    "### 7.2.1 练习"
   ]
  },
  {
   "cell_type": "code",
   "execution_count": 7,
   "id": "81bf13f8",
   "metadata": {},
   "outputs": [
    {
     "name": "stdout",
     "output_type": "stream",
     "text": [
      "Please let me know your age2\n",
      "C\n",
      "Please let me know your ageexit\n"
     ]
    }
   ],
   "source": [
    "# 1\n",
    "age = 'start'\n",
    "\n",
    "# 开始循环\n",
    "while age != None:\n",
    "    # 输入年龄\n",
    "    age = input(\"Please let me know your age\")\n",
    "    if age == 'exit':\n",
    "        break\n",
    "    elif int(age) > 3:\n",
    "        print(\"adult\")\n",
    "    elif int(age) < 3:\n",
    "        print(\"C\")"
   ]
  },
  {
   "cell_type": "markdown",
   "id": "d17db905",
   "metadata": {},
   "source": [
    "## 7.3 使⽤while 循环处理列表和字典"
   ]
  },
  {
   "cell_type": "markdown",
   "id": "2392a415",
   "metadata": {},
   "source": [
    "### 7.3.1 练习"
   ]
  },
  {
   "cell_type": "code",
   "execution_count": 10,
   "id": "26165795",
   "metadata": {},
   "outputs": [
    {
     "name": "stdout",
     "output_type": "stream",
     "text": [
      "['vegetable sandwich', 'beef sandwich', 'chicken sandwich', 'tuna sandwich']\n"
     ]
    }
   ],
   "source": [
    "# 1\n",
    "# 创建一个包含各种三明治名字的列表\n",
    "sandwich_orders = ['tuna sandwich', 'chicken sandwich', 'beef sandwich', 'vegetable sandwich']\n",
    "\n",
    "# 创建一个空列表，用于存放已完成的三明治\n",
    "finished_sandwiches = []\n",
    "\n",
    "# 使用while遍历\n",
    "while sandwich_orders != []:\n",
    "    current_sand = sandwich_orders.pop()\n",
    "    \n",
    "    # 将值填入空列表中\n",
    "    finished_sandwiches.append(current_sand)\n",
    "\n",
    "print(finished_sandwiches)"
   ]
  },
  {
   "cell_type": "code",
   "execution_count": 15,
   "id": "b9b210d1",
   "metadata": {},
   "outputs": [
    {
     "name": "stdout",
     "output_type": "stream",
     "text": [
      "Sorry, we're all out of pastrami today.\n",
      "I made your tuna sandwich.\n",
      "I made your chicken sandwich.\n",
      "I made your beef sandwich.\n",
      "I made your vegetable sandwich.\n",
      "\n",
      "The following sandwiches have been made:\n",
      "tuna sandwich\n",
      "chicken sandwich\n",
      "beef sandwich\n",
      "vegetable sandwich\n"
     ]
    }
   ],
   "source": [
    "# 2\n",
    "# 创建一个包含各种三明治名字的列表，并确保'pastrami'至少出现了三次\n",
    "sandwich_orders = [\n",
    "    'tuna sandwich', 'pastrami', 'chicken sandwich', \n",
    "    'beef sandwich', 'pastrami', 'vegetable sandwich', 'pastrami'\n",
    "]\n",
    "\n",
    "# 创建一个空列表，用于存放已完成的三明治\n",
    "finished_sandwiches = []\n",
    "\n",
    "# 打印消息，指出五香烟熏牛肉(pastrami)卖完了\n",
    "print(\"Sorry, we're all out of pastrami today.\")\n",
    "\n",
    "# 使用while循环将列表sandwich_orders中的'pastrami'都删除\n",
    "while 'pastrami' in sandwich_orders:\n",
    "    sandwich_orders.remove('pastrami')\n",
    "\n",
    "# 遍历更新后的sandwich_orders列表\n",
    "for sandwich in sandwich_orders:\n",
    "    # 打印消息\n",
    "    print(f\"I made your {sandwich}.\")\n",
    "    # 将制作好的三明治移动到finished_sandwiches列表中\n",
    "    finished_sandwiches.append(sandwich)\n",
    "\n",
    "# 所有三明治都制作好后，打印消息\n",
    "print(\"\\nThe following sandwiches have been made:\")\n",
    "for finished_sandwich in finished_sandwiches:\n",
    "    print(finished_sandwich)"
   ]
  },
  {
   "cell_type": "code",
   "execution_count": null,
   "id": "d672f33c",
   "metadata": {},
   "outputs": [],
   "source": []
  }
 ],
 "metadata": {
  "kernelspec": {
   "display_name": "Python 3 (ipykernel)",
   "language": "python",
   "name": "python3"
  },
  "language_info": {
   "codemirror_mode": {
    "name": "ipython",
    "version": 3
   },
   "file_extension": ".py",
   "mimetype": "text/x-python",
   "name": "python",
   "nbconvert_exporter": "python",
   "pygments_lexer": "ipython3",
   "version": "3.10.9"
  }
 },
 "nbformat": 4,
 "nbformat_minor": 5
}
