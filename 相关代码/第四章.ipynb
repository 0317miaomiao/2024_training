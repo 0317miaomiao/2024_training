{
 "cells": [
  {
   "cell_type": "markdown",
   "id": "fe7ab67d",
   "metadata": {},
   "source": [
    "## 4.1 遍历整个列表"
   ]
  },
  {
   "cell_type": "markdown",
   "id": "4b22aac3",
   "metadata": {},
   "source": [
    "### 4.1.1 练习"
   ]
  },
  {
   "cell_type": "code",
   "execution_count": 2,
   "id": "a61db6aa",
   "metadata": {},
   "outputs": [
    {
     "name": "stdout",
     "output_type": "stream",
     "text": [
      "pepperoni\n",
      "margherita\n",
      "bbq chicken\n",
      "I like pepperoni pizza\n",
      "I like margherita pizza\n",
      "I like bbq chicken pizza\n",
      "I really love pizza!\n"
     ]
    }
   ],
   "source": [
    "# 创建一个包含喜欢的比萨名称的列表\n",
    "pizzas = [\"pepperoni\", \"margherita\", \"bbq chicken\"]\n",
    "\n",
    "# 使用 for 循环将每种比萨的名称打印出来\n",
    "for pizza in pizzas:\n",
    "    print(pizza)\n",
    "\n",
    "# 修改 for 循环，使其打印包含比萨名称的句子\n",
    "for pizza in pizzas:\n",
    "    print(f\"I like {pizza} pizza\")\n",
    "\n",
    "# 打印一个总结性句子\n",
    "print(\"I really love pizza!\")"
   ]
  },
  {
   "cell_type": "markdown",
   "id": "2f00569d",
   "metadata": {},
   "source": [
    "## 4.2 创建数值列表"
   ]
  },
  {
   "cell_type": "markdown",
   "id": "1db85000",
   "metadata": {},
   "source": [
    "### 4.2.1 使用list创建列表"
   ]
  },
  {
   "cell_type": "code",
   "execution_count": 3,
   "id": "c259dfd4",
   "metadata": {},
   "outputs": [
    {
     "name": "stdout",
     "output_type": "stream",
     "text": [
      "[1, 2, 3, 4, 5]\n",
      "[2, 4, 6, 8, 10]\n"
     ]
    }
   ],
   "source": [
    "numbers = list(range(1, 6)) \n",
    "print(numbers)\n",
    "\n",
    "# 还可以指定步长\n",
    "even_numbers = list(range(2, 11, 2)) \n",
    "print(even_numbers)"
   ]
  },
  {
   "cell_type": "markdown",
   "id": "feaa1ab9",
   "metadata": {},
   "source": [
    "### 4.2.2 列表推导式 （这个很重要，因为简化了代码）"
   ]
  },
  {
   "cell_type": "code",
   "execution_count": 4,
   "id": "a9fe6229",
   "metadata": {},
   "outputs": [
    {
     "name": "stdout",
     "output_type": "stream",
     "text": [
      "[1, 4, 9, 16, 25, 36, 49, 64, 81, 100]\n"
     ]
    }
   ],
   "source": [
    "squares = [value**2 for value in range(1, 11)] \n",
    "print(squares)"
   ]
  },
  {
   "cell_type": "markdown",
   "id": "d1d635c6",
   "metadata": {},
   "source": [
    "### 4.2.3 练习"
   ]
  },
  {
   "cell_type": "code",
   "execution_count": 5,
   "id": "fd42c3b5",
   "metadata": {},
   "outputs": [
    {
     "name": "stdout",
     "output_type": "stream",
     "text": [
      "[1, 2, 3, 4, 5, 6, 7, 8, 9, 10, 11, 12, 13, 14, 15, 16, 17, 18, 19, 20]\n"
     ]
    }
   ],
   "source": [
    "# 1\n",
    "list_test = [i for i in range(1,21)]\n",
    "print(list_test)"
   ]
  },
  {
   "cell_type": "code",
   "execution_count": null,
   "id": "a205c331",
   "metadata": {},
   "outputs": [],
   "source": [
    "# 2\n",
    "list_test = [i for i in range(1, 1000000)]\n",
    "print(lies_)"
   ]
  },
  {
   "cell_type": "code",
   "execution_count": 7,
   "id": "ccc1bcc7",
   "metadata": {},
   "outputs": [
    {
     "name": "stdout",
     "output_type": "stream",
     "text": [
      "[3, 6, 9, 12, 15, 18, 21, 24, 27, 30]\n"
     ]
    }
   ],
   "source": [
    "# 3\n",
    "list_test = [i for i in range(3, 31) if i%3 == 0]\n",
    "print(list_test)"
   ]
  },
  {
   "cell_type": "code",
   "execution_count": 9,
   "id": "8a610791",
   "metadata": {},
   "outputs": [
    {
     "name": "stdout",
     "output_type": "stream",
     "text": [
      "[1, 8, 27, 64, 125, 216, 343, 512, 729, 1000]\n"
     ]
    }
   ],
   "source": [
    "# 4\n",
    "list_test = [i**3 for i in range(1, 11)]\n",
    "print(list_test)"
   ]
  },
  {
   "cell_type": "markdown",
   "id": "da5ce6ed",
   "metadata": {},
   "source": [
    "## 4.3 使⽤列表的⼀部分"
   ]
  },
  {
   "cell_type": "markdown",
   "id": "322e4f16",
   "metadata": {},
   "source": [
    "### 4.3.1 练习"
   ]
  },
  {
   "cell_type": "code",
   "execution_count": 21,
   "id": "fb3d29a7",
   "metadata": {},
   "outputs": [
    {
     "name": "stdout",
     "output_type": "stream",
     "text": [
      "My favorite pizzas are:a\n",
      "My favorite pizzas are:b\n",
      "My favorite pizzas are:c\n",
      "My favorite pizzas are:d\n",
      "\n",
      "\n",
      "My favorite pizzas are:a\n",
      "My favorite pizzas are:b\n",
      "My favorite pizzas are:c\n",
      "My favorite pizzas are:e\n"
     ]
    }
   ],
   "source": [
    "# 1    !!!!!!务必注意要进行列表的复制，而不是直接赋值\n",
    "your_pizzas = [\"a\", \"b\", \"c\"]\n",
    "friend_pizzas = your_pizzas[:]\n",
    "\n",
    "# 分别添加不同的pizza\n",
    "your_pizzas.append(\"d\")\n",
    "friend_pizzas.append(\"e\")\n",
    "\n",
    "# 打印循环\n",
    "for pizza in your_pizzas:\n",
    "    print(f\"My favorite pizzas are:{pizza}\")\n",
    "\n",
    "print(\"\\n\")\n",
    "\n",
    "for pizza in friend_pizzas:\n",
    "    print(f\"My favorite pizzas are:{pizza}\")"
   ]
  },
  {
   "cell_type": "markdown",
   "id": "1141e83c",
   "metadata": {},
   "source": [
    "## 4.4元组"
   ]
  },
  {
   "cell_type": "markdown",
   "id": "30aafee9",
   "metadata": {},
   "source": [
    "### 4.4.1 定义元组"
   ]
  },
  {
   "cell_type": "code",
   "execution_count": 22,
   "id": "4161b600",
   "metadata": {},
   "outputs": [
    {
     "name": "stdout",
     "output_type": "stream",
     "text": [
      "200\n",
      "50\n"
     ]
    }
   ],
   "source": [
    "# 使用( )来定义元组\n",
    "dimensions = (200, 50) \n",
    "print(dimensions[0]) \n",
    "print(dimensions[1])"
   ]
  },
  {
   "cell_type": "markdown",
   "id": "1b80867e",
   "metadata": {},
   "source": [
    "注意元组是不能被修改的"
   ]
  },
  {
   "cell_type": "markdown",
   "id": "a7966864",
   "metadata": {},
   "source": [
    "### 4.4.2 练习"
   ]
  },
  {
   "cell_type": "code",
   "execution_count": 23,
   "id": "25c2ec6a",
   "metadata": {},
   "outputs": [
    {
     "name": "stdout",
     "output_type": "stream",
     "text": [
      "('a', 'b', 'c', 'd', 'e')\n"
     ]
    }
   ],
   "source": [
    "# 1\n",
    "food = ('a', 'b', 'c', 'd', 'e')\n",
    "print(food)"
   ]
  },
  {
   "cell_type": "code",
   "execution_count": 25,
   "id": "c2f1f621",
   "metadata": {},
   "outputs": [
    {
     "name": "stdout",
     "output_type": "stream",
     "text": [
      "a\n",
      "b\n",
      "c\n",
      "f\n",
      "j\n"
     ]
    }
   ],
   "source": [
    "food = ('a', 'b', 'c', 'f', 'j')\n",
    "\n",
    "# 循环打印\n",
    "for i in food:\n",
    "    print(i)"
   ]
  }
 ],
 "metadata": {
  "kernelspec": {
   "display_name": "Python 3 (ipykernel)",
   "language": "python",
   "name": "python3"
  },
  "language_info": {
   "codemirror_mode": {
    "name": "ipython",
    "version": 3
   },
   "file_extension": ".py",
   "mimetype": "text/x-python",
   "name": "python",
   "nbconvert_exporter": "python",
   "pygments_lexer": "ipython3",
   "version": "3.10.9"
  }
 },
 "nbformat": 4,
 "nbformat_minor": 5
}
