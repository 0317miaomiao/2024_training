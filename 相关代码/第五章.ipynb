{
 "cells": [
  {
   "cell_type": "markdown",
   "id": "b42d45cd",
   "metadata": {},
   "source": [
    "## 5.1条件测试"
   ]
  },
  {
   "cell_type": "markdown",
   "id": "9548af51",
   "metadata": {},
   "source": [
    "### 5.1.1 检查特定的值是否在列表中（或不在）"
   ]
  },
  {
   "cell_type": "code",
   "execution_count": 1,
   "id": "6de4fff2",
   "metadata": {},
   "outputs": [
    {
     "data": {
      "text/plain": [
       "True"
      ]
     },
     "execution_count": 1,
     "metadata": {},
     "output_type": "execute_result"
    }
   ],
   "source": [
    "# 检查是否在\n",
    "requested_toppings = ['mushrooms', 'onions', 'pineapple'] \n",
    "'mushrooms' in requested_toppings"
   ]
  },
  {
   "cell_type": "code",
   "execution_count": 2,
   "id": "135ab5f1",
   "metadata": {},
   "outputs": [
    {
     "name": "stdout",
     "output_type": "stream",
     "text": [
      "Marie, you can post a response if you wish.\n"
     ]
    }
   ],
   "source": [
    "# 检查是否不在\n",
    "banned_users = ['andrew', 'carolina', 'david'] \n",
    "user = 'marie' \n",
    "if user not in banned_users: \n",
    "    print(f\"{user.title()}, you can post a response if you wish.\")"
   ]
  },
  {
   "cell_type": "markdown",
   "id": "71b5eb38",
   "metadata": {},
   "source": [
    "## 5.2 if 语句"
   ]
  },
  {
   "cell_type": "markdown",
   "id": "90b48765",
   "metadata": {},
   "source": [
    "### 5.2.1 测试"
   ]
  },
  {
   "cell_type": "code",
   "execution_count": 3,
   "id": "6a6d010d",
   "metadata": {},
   "outputs": [
    {
     "name": "stdout",
     "output_type": "stream",
     "text": [
      "玩家获得了 5 分\n"
     ]
    }
   ],
   "source": [
    "# 1\n",
    "\n",
    "# 创建一个名为 alien_color 的变量，并将其赋值为 'green'\n",
    "alien_color = 'green'\n",
    "\n",
    "# 测试外星人是否是绿色的\n",
    "if alien_color == 'green':\n",
    "    print(\"玩家获得了 5 分\")"
   ]
  },
  {
   "cell_type": "code",
   "execution_count": 4,
   "id": "2ed1b831",
   "metadata": {},
   "outputs": [],
   "source": [
    "# 2\n",
    "\n",
    "# 创建一个名为 alien_color 的变量，并将其赋值为 'yellow'\n",
    "alien_color = 'yellow'\n",
    "\n",
    "# 测试外星人是否是绿色的\n",
    "if alien_color == 'green':\n",
    "    print(\"玩家获得了 5 分\")"
   ]
  },
  {
   "cell_type": "markdown",
   "id": "7744a098",
   "metadata": {},
   "source": [
    "## 5.3 使⽤if 语句处理列表"
   ]
  },
  {
   "cell_type": "markdown",
   "id": "33eded09",
   "metadata": {},
   "source": [
    "### 5.3.1 确认列表非空"
   ]
  },
  {
   "cell_type": "code",
   "execution_count": 7,
   "id": "5ad5783c",
   "metadata": {},
   "outputs": [
    {
     "name": "stdout",
     "output_type": "stream",
     "text": [
      "Are you sure you want a plain pizza?\n"
     ]
    }
   ],
   "source": [
    "requested_toppings = [] \n",
    "    \n",
    "if requested_toppings: \n",
    "    for requested_topping in requested_toppings: \n",
    "        print(f\"Adding {requested_topping}.\") \n",
    "    print(\"\\nFinished making your pizza!\") \n",
    "else: \n",
    "    print(\"Are you sure you want a plain pizza?\") \n"
   ]
  },
  {
   "cell_type": "markdown",
   "id": "55973b7f",
   "metadata": {},
   "source": [
    "### 5.3.2 练习"
   ]
  },
  {
   "cell_type": "code",
   "execution_count": 8,
   "id": "5bc8f945",
   "metadata": {},
   "outputs": [
    {
     "name": "stdout",
     "output_type": "stream",
     "text": [
      "Hello admin, would you like to see a status report?\n",
      "Hello Jaden, thank you for logging in again\n",
      "Hello Alice, thank you for logging in again\n",
      "Hello Bob, thank you for logging in again\n",
      "Hello Charlie, thank you for logging in again\n"
     ]
    }
   ],
   "source": [
    "# 1\n",
    "# 创建一个包含至少5个用户名的列表，其中一个用户名为 'admin'\n",
    "usernames = [\"admin\", \"Jaden\", \"Alice\", \"Bob\", \"Charlie\"]\n",
    "\n",
    "# 遍历用户名列表，向每个用户打印一条问候消息\n",
    "for username in usernames:\n",
    "    if username == 'admin':\n",
    "        print(\"Hello admin, would you like to see a status report?\")\n",
    "    else:\n",
    "        print(f\"Hello {username}, thank you for logging in again\")"
   ]
  },
  {
   "cell_type": "code",
   "execution_count": 9,
   "id": "4e7014c0",
   "metadata": {},
   "outputs": [
    {
     "name": "stdout",
     "output_type": "stream",
     "text": [
      "用户名 'alice' 已被使用，请输入别的用户名。\n",
      "用户名 'Eve' 未被使用，可以注册。\n",
      "用户名 'charlie' 已被使用，请输入别的用户名。\n",
      "用户名 'David' 未被使用，可以注册。\n",
      "用户名 'Frank' 未被使用，可以注册。\n"
     ]
    }
   ],
   "source": [
    "# 2\n",
    "# 创建现存的用户名字\n",
    "current_users = [\"admin\", \"Jaden\", \"Alice\", \"Bob\", \"Charlie\"]\n",
    "\n",
    "# 创建新加入的用户名字\n",
    "new_users = [\"alice\", \"Eve\", \"charlie\", \"David\", \"Frank\"]\n",
    "\n",
    "# 创建 current_users 的副本，其中包含当前所有用户名的全小写版本\n",
    "current_users_lower = [user.lower() for user in current_users]\n",
    "\n",
    "# 遍历列表 new_users，检查其中的每个用户名是否已被使用\n",
    "for new_user in new_users:\n",
    "    if new_user.lower() in current_users_lower:\n",
    "        print(f\"用户名 '{new_user}' 已被使用，请输入别的用户名。\")\n",
    "    else:\n",
    "        print(f\"用户名 '{new_user}' 未被使用，可以注册。\")"
   ]
  },
  {
   "cell_type": "code",
   "execution_count": 10,
   "id": "9581a28a",
   "metadata": {},
   "outputs": [
    {
     "name": "stdout",
     "output_type": "stream",
     "text": [
      "1st\n",
      "2nd\n",
      "3rd\n",
      "4th\n",
      "5th\n",
      "6th\n",
      "7th\n",
      "8th\n",
      "9th\n"
     ]
    }
   ],
   "source": [
    "# 3\n",
    "# 在一个列表中存储数字 1-9\n",
    "numbers = list(range(1, 10))\n",
    "\n",
    "# 遍历这个列表\n",
    "for number in numbers:\n",
    "    # 使用 if-elif-else 结构，打印每个数字对应的序数\n",
    "    if number == 1:\n",
    "        print(f\"{number}st\")\n",
    "    elif number == 2:\n",
    "        print(f\"{number}nd\")\n",
    "    elif number == 3:\n",
    "        print(f\"{number}rd\")\n",
    "    else:\n",
    "        print(f\"{number}th\")"
   ]
  },
  {
   "cell_type": "code",
   "execution_count": null,
   "id": "7361c24e",
   "metadata": {},
   "outputs": [],
   "source": []
  }
 ],
 "metadata": {
  "kernelspec": {
   "display_name": "Python 3 (ipykernel)",
   "language": "python",
   "name": "python3"
  },
  "language_info": {
   "codemirror_mode": {
    "name": "ipython",
    "version": 3
   },
   "file_extension": ".py",
   "mimetype": "text/x-python",
   "name": "python",
   "nbconvert_exporter": "python",
   "pygments_lexer": "ipython3",
   "version": "3.10.9"
  }
 },
 "nbformat": 4,
 "nbformat_minor": 5
}
