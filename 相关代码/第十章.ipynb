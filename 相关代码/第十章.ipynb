{
 "cells": [
  {
   "cell_type": "markdown",
   "id": "89f05611",
   "metadata": {},
   "source": [
    "## 10.1 读取文件"
   ]
  },
  {
   "cell_type": "code",
   "execution_count": 2,
   "id": "cb2094b0",
   "metadata": {},
   "outputs": [
    {
     "name": "stdout",
     "output_type": "stream",
     "text": [
      "3.1415926535 \n",
      "  8979323846 \n",
      "  2643383271\n"
     ]
    }
   ],
   "source": [
    "from pathlib import Path \n",
    "\n",
    "path = Path('pi_digits.txt')\n",
    "contents = path.read_text()\n",
    "print(contents)"
   ]
  },
  {
   "cell_type": "code",
   "execution_count": 4,
   "id": "c78cade3",
   "metadata": {},
   "outputs": [
    {
     "name": "stdout",
     "output_type": "stream",
     "text": [
      "3.1415926535 \n",
      "  8979323846 \n",
      "  2643383271\n"
     ]
    }
   ],
   "source": [
    "# 为了删除多余的空格，调用rstrip\n",
    "contents = contents.rstrip()\n",
    "print(contents)"
   ]
  },
  {
   "cell_type": "code",
   "execution_count": 5,
   "id": "a76caf98",
   "metadata": {},
   "outputs": [
    {
     "name": "stdout",
     "output_type": "stream",
     "text": [
      "3.1415926535 \n",
      "  8979323846 \n",
      "  2643383271\n"
     ]
    }
   ],
   "source": [
    "# 返回每一行的内容\n",
    "lines = contents.splitlines()\n",
    "for line in lines:\n",
    "    print(line)"
   ]
  },
  {
   "cell_type": "markdown",
   "id": "21a6dc33",
   "metadata": {},
   "source": [
    "## 10.2 写入文件"
   ]
  },
  {
   "cell_type": "code",
   "execution_count": 6,
   "id": "2eaa2788",
   "metadata": {},
   "outputs": [
    {
     "data": {
      "text/plain": [
       "10"
      ]
     },
     "execution_count": 6,
     "metadata": {},
     "output_type": "execute_result"
    }
   ],
   "source": [
    "# 写入一行\n",
    "path = Path('pi_digits.txt')\n",
    "path.write_text(\"I love you\")"
   ]
  },
  {
   "cell_type": "code",
   "execution_count": 7,
   "id": "38071eab",
   "metadata": {},
   "outputs": [
    {
     "data": {
      "text/plain": [
       "78"
      ]
     },
     "execution_count": 7,
     "metadata": {},
     "output_type": "execute_result"
    }
   ],
   "source": [
    "# 写入多行\n",
    "contents = \"I love programming.\\n\" \n",
    "contents += \"I love creating new games.\\n\" \n",
    "contents += \"I also love working with data.\\n\" \n",
    "path = Path('programming.txt') \n",
    "path.write_text(contents) "
   ]
  },
  {
   "cell_type": "markdown",
   "id": "3d53b166",
   "metadata": {},
   "source": [
    "### 10.2.1 练习"
   ]
  },
  {
   "cell_type": "code",
   "execution_count": 8,
   "id": "c254e597",
   "metadata": {},
   "outputs": [
    {
     "name": "stdout",
     "output_type": "stream",
     "text": [
      "Please show me your nameaaa\n"
     ]
    },
    {
     "data": {
      "text/plain": [
       "3"
      ]
     },
     "execution_count": 8,
     "metadata": {},
     "output_type": "execute_result"
    }
   ],
   "source": [
    "# 1\n",
    "# 提示输入名字\n",
    "name = input(\"Please show me your name\")\n",
    "\n",
    "# 写入txt文件\n",
    "path.write_text(name)"
   ]
  },
  {
   "cell_type": "code",
   "execution_count": 12,
   "id": "3b2ce48e",
   "metadata": {},
   "outputs": [
    {
     "name": "stdout",
     "output_type": "stream",
     "text": [
      "Please show me your namedat\n",
      "Please show me your nameexit\n"
     ]
    },
    {
     "data": {
      "text/plain": [
       "5"
      ]
     },
     "execution_count": 12,
     "metadata": {},
     "output_type": "execute_result"
    }
   ],
   "source": [
    "# 2\n",
    "name = ''\n",
    "sum_name = ''\n",
    "\n",
    "# 开始循环\n",
    "while True:\n",
    "    name = input(\"Please show me your name\")\n",
    "    if name == 'exit':\n",
    "        break\n",
    "    sum_name += f\"{name} \\n\"\n",
    "\n",
    "# 写入txt文件\n",
    "path.write_text(sum_name)"
   ]
  },
  {
   "cell_type": "markdown",
   "id": "77b7daae",
   "metadata": {},
   "source": [
    "## 10.3 处理异常"
   ]
  },
  {
   "cell_type": "code",
   "execution_count": 14,
   "id": "179c84d8",
   "metadata": {},
   "outputs": [
    {
     "name": "stdout",
     "output_type": "stream",
     "text": [
      "You can't divide by zero!\n"
     ]
    }
   ],
   "source": [
    "try: \n",
    "    print(5/0) \n",
    "except ZeroDivisionError: \n",
    "    print(\"You can't divide by zero!\")"
   ]
  },
  {
   "cell_type": "markdown",
   "id": "f81ff493",
   "metadata": {},
   "source": [
    "## 10.4 储存数据"
   ]
  },
  {
   "cell_type": "markdown",
   "id": "d3d360cb",
   "metadata": {},
   "source": [
    "#### 一种轻量级储存数据的方法"
   ]
  },
  {
   "cell_type": "code",
   "execution_count": 16,
   "id": "e9af1fff",
   "metadata": {},
   "outputs": [
    {
     "data": {
      "text/plain": [
       "20"
      ]
     },
     "execution_count": 16,
     "metadata": {},
     "output_type": "execute_result"
    }
   ],
   "source": [
    "from pathlib import Path \n",
    "import json \n",
    "\n",
    "numbers = [2, 3, 5, 7, 11, 13] \n",
    "path = Path('numbers.json') \n",
    "\n",
    "# 要先转化为json的形式\n",
    "contents = json.dumps(numbers) \n",
    "path.write_text(contents)"
   ]
  },
  {
   "cell_type": "markdown",
   "id": "668fd785",
   "metadata": {},
   "source": [
    "### 10.4.1 练习"
   ]
  },
  {
   "cell_type": "code",
   "execution_count": 18,
   "id": "4f6d91a2",
   "metadata": {},
   "outputs": [
    {
     "name": "stdout",
     "output_type": "stream",
     "text": [
      "write down the number that you like \tr\n",
      "r\n"
     ]
    }
   ],
   "source": [
    "# 输入自己喜欢的数\n",
    "number = input(\"write down the number that you like \\t\")\n",
    "\n",
    "path = Path('numbers_like.json')\n",
    "contents = json.dumps(number)\n",
    "path.write_text(contents)\n",
    "\n",
    "# 再从中读出这个名字\n",
    "name = path.read_text()\n",
    "use_name = json.loads(name)\n",
    "print(use_name)"
   ]
  },
  {
   "cell_type": "code",
   "execution_count": 23,
   "id": "b9623ceb",
   "metadata": {},
   "outputs": [
    {
     "name": "stdout",
     "output_type": "stream",
     "text": [
      "Please enter your name (enter 'q' to quit): qq\n",
      "Please enter your email: a\n",
      "Please enter your age: c\n",
      "Please enter your name (enter 'q' to quit): a\n",
      "Please enter your email: s\n",
      "Please enter your age: d\n",
      "Please enter your name (enter 'q' to quit): q\n",
      "{'name': 'qq', 'email': 'a', 'age': 'c'} \n",
      "{'name': 'a', 'email': 's', 'age': 'd'} \n",
      "\n"
     ]
    }
   ],
   "source": [
    "# 2\n",
    "path = Path('guest_book.json')\n",
    "user_info_temp = ''\n",
    "\n",
    "while True:\n",
    "    name = input(\"Please enter your name (enter 'q' to quit): \")\n",
    "    if name == 'q':\n",
    "        break\n",
    "    email = input(\"Please enter your email: \")\n",
    "    age = input(\"Please enter your age: \")\n",
    "    \n",
    "    # 将用户信息存储到字典中\n",
    "    user_info = {\n",
    "        'name': name,\n",
    "        'email': email,\n",
    "        'age': age,\n",
    "    }\n",
    "    user_info_temp += f\"{user_info} \\n\"\n",
    "    \n",
    "contents = json.dumps(user_info_temp)\n",
    "# 写入内容\n",
    "path.write_text(contents)\n",
    "\n",
    "# 读取文件内容，并解析JSON数据\n",
    "try:\n",
    "    name = path.read_text()\n",
    "    use_name = json.loads(name)\n",
    "    for line in use_name:\n",
    "        print(line)\n",
    "except FileNotFoundError:\n",
    "    print(f\"The file does not exist.\")"
   ]
  }
 ],
 "metadata": {
  "kernelspec": {
   "display_name": "Python 3 (ipykernel)",
   "language": "python",
   "name": "python3"
  },
  "language_info": {
   "codemirror_mode": {
    "name": "ipython",
    "version": 3
   },
   "file_extension": ".py",
   "mimetype": "text/x-python",
   "name": "python",
   "nbconvert_exporter": "python",
   "pygments_lexer": "ipython3",
   "version": "3.10.9"
  }
 },
 "nbformat": 4,
 "nbformat_minor": 5
}
