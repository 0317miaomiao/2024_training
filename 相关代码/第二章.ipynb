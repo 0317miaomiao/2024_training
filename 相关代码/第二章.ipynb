{
 "cells": [
  {
   "cell_type": "markdown",
   "id": "026fab18",
   "metadata": {},
   "source": [
    "## 2.1 本章主要学习了基础变量的知识"
   ]
  },
  {
   "cell_type": "code",
   "execution_count": 1,
   "id": "066297eb",
   "metadata": {},
   "outputs": [
    {
     "name": "stdout",
     "output_type": "stream",
     "text": [
      "ni hao\n"
     ]
    }
   ],
   "source": [
    "message1 = \"ni hao\"\n",
    "print(message1)"
   ]
  },
  {
   "cell_type": "code",
   "execution_count": 2,
   "id": "46df9a56",
   "metadata": {},
   "outputs": [
    {
     "name": "stdout",
     "output_type": "stream",
     "text": [
      "hello\n",
      "hi\n"
     ]
    }
   ],
   "source": [
    "message2 = \"hello\"\n",
    "print(message2)\n",
    "message2 = \"hi\"\n",
    "print(message2)"
   ]
  },
  {
   "cell_type": "markdown",
   "id": "710c6d5d",
   "metadata": {},
   "source": [
    "## 2.2 字符串相关知识"
   ]
  },
  {
   "cell_type": "markdown",
   "id": "7b9ae20b",
   "metadata": {},
   "source": [
    "### 2.2.1 在字符串中使用变量"
   ]
  },
  {
   "cell_type": "code",
   "execution_count": 7,
   "id": "2cdc1e2b",
   "metadata": {},
   "outputs": [
    {
     "name": "stdout",
     "output_type": "stream",
     "text": [
      "yao guo\n",
      "hello, Yao Guo\n"
     ]
    }
   ],
   "source": [
    "# e.g.\n",
    "first_name = \"yao\"\n",
    "last_name = \"guo\"\n",
    "full_name = f\"{first_name} {last_name}\"\n",
    "print(full_name)\n",
    "full_name2 = f\"hello, {full_name.title()}\"\n",
    "print(full_name2)"
   ]
  },
  {
   "cell_type": "markdown",
   "id": "232d2b04",
   "metadata": {},
   "source": [
    "### 2.2.2 删去多余的空白"
   ]
  },
  {
   "cell_type": "code",
   "execution_count": 9,
   "id": "9546d08d",
   "metadata": {},
   "outputs": [
    {
     "name": "stdout",
     "output_type": "stream",
     "text": [
      "python \n"
     ]
    },
    {
     "data": {
      "text/plain": [
       "'python'"
      ]
     },
     "execution_count": 9,
     "metadata": {},
     "output_type": "execute_result"
    }
   ],
   "source": [
    "# e.g.\n",
    "index1 = \"python \"\n",
    "print(index1)\n",
    "index1.rstrip()"
   ]
  },
  {
   "cell_type": "markdown",
   "id": "19c09593",
   "metadata": {},
   "source": [
    "### 2.2.3 删去前缀"
   ]
  },
  {
   "cell_type": "code",
   "execution_count": 10,
   "id": "231c4fb1",
   "metadata": {},
   "outputs": [
    {
     "data": {
      "text/plain": [
       "'://nostarch.com'"
      ]
     },
     "execution_count": 10,
     "metadata": {},
     "output_type": "execute_result"
    }
   ],
   "source": [
    "nostarch_url = 'https://nostarch.com'\n",
    "nostarch_url.removeprefix('https')"
   ]
  },
  {
   "cell_type": "markdown",
   "id": "cf656865",
   "metadata": {},
   "source": [
    "### 2.2.4 练习"
   ]
  },
  {
   "cell_type": "code",
   "execution_count": 11,
   "id": "c241b189",
   "metadata": {},
   "outputs": [
    {
     "name": "stdout",
     "output_type": "stream",
     "text": [
      "Hello Eric, would you like to learn some Python today?\n"
     ]
    }
   ],
   "source": [
    "# 1\n",
    "# 定义变量来表示一个人的名字\n",
    "name = \"Eric\"\n",
    "\n",
    "# 创建消息字符串\n",
    "message = f\"Hello {name}, would you like to learn some Python today?\"\n",
    "\n",
    "# 显示消息\n",
    "print(message)"
   ]
  },
  {
   "cell_type": "code",
   "execution_count": 14,
   "id": "605a4b68",
   "metadata": {},
   "outputs": [
    {
     "name": "stdout",
     "output_type": "stream",
     "text": [
      "ERIC\n",
      "eric\n",
      "Eric\n"
     ]
    }
   ],
   "source": [
    "# 2\n",
    "# 定义名字\n",
    "name = \"Eric\"\n",
    "\n",
    "# 全大写\n",
    "print(name.upper())\n",
    "\n",
    "# 全小写\n",
    "print(name.lower())\n",
    "\n",
    "# 首字母\n",
    "print(name.title())"
   ]
  },
  {
   "cell_type": "code",
   "execution_count": 16,
   "id": "c3914a22",
   "metadata": {},
   "outputs": [
    {
     "name": "stdout",
     "output_type": "stream",
     "text": [
      "Albert Einstein once said, “A person who never made a mistake never tried anything new.”\n",
      "Eric once said, “A person who never made a mistake never tried anything new.”\n"
     ]
    }
   ],
   "source": [
    "# 3\n",
    "\n",
    "# 定义名言\n",
    "saying = 'Albert Einstein once said, “A person who never made a mistake never tried anything new.”'\n",
    "print(saying)\n",
    "\n",
    "# 4\n",
    "\n",
    "# 定义人名\n",
    "famous_person = 'Eric'\n",
    "saying = f'{famous_person} once said, “A person who never made a mistake never tried anything new.”'\n",
    "print(saying)"
   ]
  },
  {
   "cell_type": "code",
   "execution_count": 17,
   "id": "334e9fbb",
   "metadata": {},
   "outputs": [
    {
     "name": "stdout",
     "output_type": "stream",
     "text": [
      "使用lstrip()处理后：'Eric \n",
      "'\n",
      "使用rstrip()处理后：'\t Eric'\n",
      "使用strip()处理后：'Eric'\n"
     ]
    }
   ],
   "source": [
    "# 5\n",
    "\n",
    "# 定义变量来表示一个人的名字，并在其开头和末尾包含一些空白字符\n",
    "name = \"\\t Eric \\n\"\n",
    "\n",
    "# 使用lstrip()函数删除开头的空白字符\n",
    "name_lstrip = name.lstrip()\n",
    "print(f\"使用lstrip()处理后：'{name_lstrip}'\")\n",
    "\n",
    "# 使用rstrip()函数删除末尾的空白字符\n",
    "name_rstrip = name.rstrip()\n",
    "print(f\"使用rstrip()处理后：'{name_rstrip}'\")\n",
    "\n",
    "# 使用strip()函数删除开头和末尾的空白字符\n",
    "name_strip = name.strip()\n",
    "print(f\"使用strip()处理后：'{name_strip}'\")\n"
   ]
  },
  {
   "cell_type": "code",
   "execution_count": 18,
   "id": "11f81204",
   "metadata": {},
   "outputs": [
    {
     "name": "stdout",
     "output_type": "stream",
     "text": [
      "python_notes\n"
     ]
    }
   ],
   "source": [
    "# 6\n",
    "\n",
    "# 将值 'python_notes.txt' 赋给变量 filename\n",
    "filename = 'python_notes.txt'\n",
    "\n",
    "# 使用 removesuffix() 方法移除文件名的扩展名\n",
    "filename_without_extension = filename.removesuffix('.txt')\n",
    "\n",
    "# 显示不包含扩展名的文件名\n",
    "print(filename_without_extension)"
   ]
  },
  {
   "cell_type": "markdown",
   "id": "9316e790",
   "metadata": {},
   "source": [
    "## 2.3数"
   ]
  },
  {
   "cell_type": "markdown",
   "id": "0683ecc3",
   "metadata": {},
   "source": [
    "### 2.3.1 练习"
   ]
  },
  {
   "cell_type": "code",
   "execution_count": 22,
   "id": "cf22ecb1",
   "metadata": {},
   "outputs": [
    {
     "name": "stdout",
     "output_type": "stream",
     "text": [
      "8\n",
      "8\n",
      "8\n",
      "8\n"
     ]
    }
   ],
   "source": [
    "# 1\n",
    "\n",
    "# 加法\n",
    "print(4+4)\n",
    "\n",
    "#减法\n",
    "print(9-1)\n",
    "\n",
    "#乘法\n",
    "print(2*4)\n",
    "\n",
    "#除法\n",
    "print(int(16/2))"
   ]
  },
  {
   "cell_type": "code",
   "execution_count": 23,
   "id": "ed58e102",
   "metadata": {},
   "outputs": [
    {
     "name": "stdout",
     "output_type": "stream",
     "text": [
      "My favorite number is 7.\n"
     ]
    }
   ],
   "source": [
    "# 2\n",
    "\n",
    "# 定义变量来表示你最喜欢的数字\n",
    "favorite_number = 7\n",
    "\n",
    "# 创建一条消息，指出你最喜欢的数字是什么\n",
    "message = f\"My favorite number is {favorite_number}.\"\n",
    "\n",
    "print(message)"
   ]
  }
 ],
 "metadata": {
  "kernelspec": {
   "display_name": "Python 3 (ipykernel)",
   "language": "python",
   "name": "python3"
  },
  "language_info": {
   "codemirror_mode": {
    "name": "ipython",
    "version": 3
   },
   "file_extension": ".py",
   "mimetype": "text/x-python",
   "name": "python",
   "nbconvert_exporter": "python",
   "pygments_lexer": "ipython3",
   "version": "3.10.9"
  }
 },
 "nbformat": 4,
 "nbformat_minor": 5
}
