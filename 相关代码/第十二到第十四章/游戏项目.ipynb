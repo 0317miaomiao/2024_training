{
 "cells": [
  {
   "cell_type": "markdown",
   "id": "65e62def",
   "metadata": {},
   "source": [
    "# 开发外星人游戏，综合第十二到第十四章"
   ]
  },
  {
   "cell_type": "code",
   "execution_count": 1,
   "id": "9d4b262b",
   "metadata": {},
   "outputs": [
    {
     "name": "stdout",
     "output_type": "stream",
     "text": [
      "pygame 2.5.2 (SDL 2.28.3, Python 3.10.9)\n",
      "Hello from the pygame community. https://www.pygame.org/contribute.html\n"
     ]
    }
   ],
   "source": [
    "import sys\n",
    "import pygame"
   ]
  },
  {
   "cell_type": "markdown",
   "id": "9308701f",
   "metadata": {},
   "source": [
    "#### 注意其中self.settings = Settings()与self.ship = Ship(self)的区别，加self是因为还要调用主程序中的函数"
   ]
  },
  {
   "cell_type": "code",
   "execution_count": 4,
   "id": "e451ea24",
   "metadata": {},
   "outputs": [],
   "source": [
    "import sys\n",
    "import pygame\n",
    "\n",
    "class AlienInvasion:\n",
    "    \n",
    "    def __init__(self):\n",
    "        # 初始化游戏\n",
    "        pygame.init()\n",
    "        \n",
    "        # 控制帧率的方法\n",
    "        self.clock = pygame.time.Clock()\n",
    "        \n",
    "        self.settings = Settings()\n",
    "        \n",
    "        self.screen = pygame.display.set_mode((self.settings.screen_width, self.settings.screen_height)) \n",
    "\n",
    "        pygame.display.set_caption(\"Alien Invasion\")\n",
    "        \n",
    "        self.ship = Ship(self)\n",
    "        \n",
    "        self.bullets = pygame.sprite.Group()\n",
    "    \n",
    "    # 开始游戏的主循环\n",
    "    def run_game(self):\n",
    "        \"\"\"开始主游戏循环\"\"\"\n",
    "        while True:\n",
    "            self._check_events()\n",
    "            self.ship.update()\n",
    "            self._update_bullets()      \n",
    "            self._update_screen()           \n",
    "            self.clock.tick(60)\n",
    "    \n",
    "    # 相应按键与鼠标事件\n",
    "    def _check_events(self):\n",
    "        # 监听鼠标与键盘\n",
    "            for event in pygame.event.get():\n",
    "                if event.type == pygame.QUIT:\n",
    "                    sys.exit()\n",
    "                elif event.type == pygame.KEYDOWN: \n",
    "                    self._check_keydown_events(event) \n",
    "                elif event.type == pygame.KEYUP: \n",
    "                    self._check_keyup_events(event) \n",
    "    \n",
    "    # 进行重构\n",
    "    def _check_keydown_events(self, event): \n",
    "        if event.key == pygame.K_RIGHT:\n",
    "            self.ship.moving_right = True\n",
    "        elif event.key == pygame.K_LEFT: \n",
    "            self.ship.moving_left = True\n",
    "        elif event.key == pygame.K_q: \n",
    "            sys.exit() \n",
    "        elif event.key == pygame.K_SPACE:\n",
    "            self._fire_bullet()\n",
    "    \n",
    "    def _check_keyup_events(self, event): \n",
    "        if event.key == pygame.K_RIGHT: \n",
    "            self.ship.moving_right = False \n",
    "        elif event.key == pygame.K_LEFT: \n",
    "            self.ship.moving_left = False\n",
    "            \n",
    "    def _fire_bullet(self):\n",
    "        \"\"\"创建子弹并且开火\"\"\"\n",
    "        if len(self.bullets) < self.settings.bullets_allowed:\n",
    "            new_bullet = Bullet(self)\n",
    "            self.bullets.add(new_bullet)\n",
    "            \n",
    "    def _update_bullets(self):\n",
    "        \"\"\"更新子弹位置并且删除已经消失的子弹\"\"\"\n",
    "        # 更新位置\n",
    "        self.bullets.update() \n",
    "            \n",
    "        # 删除已经消失的子弹\n",
    "        for bullet in self.bullets.copy(): \n",
    "            if bullet.rect.bottom <= 0:\n",
    "                self.bullets.remove(bullet) \n",
    "            \n",
    "    def _update_screen(self):\n",
    "        # 更新屏幕上的图像，并切换到新屏幕\n",
    "        self.screen.fill(self.settings.bg_color)\n",
    "        for bullet in self.bullets.sprites(): \n",
    "            bullet.draw_bullet()\n",
    "        self.ship.blitme() \n",
    "\n",
    "        # 让最近绘制的屏幕可见\n",
    "        pygame.display.flip()\n",
    "    \n",
    "if __name__ == 'main':\n",
    "    # 创建游戏实例并运行\n",
    "    ai = AlienInvasion()\n",
    "    ai.run_game()"
   ]
  },
  {
   "cell_type": "code",
   "execution_count": 5,
   "id": "6fb94322",
   "metadata": {},
   "outputs": [
    {
     "ename": "SystemExit",
     "evalue": "",
     "output_type": "error",
     "traceback": [
      "An exception has occurred, use %tb to see the full traceback.\n",
      "\u001b[1;31mSystemExit\u001b[0m\n"
     ]
    },
    {
     "name": "stderr",
     "output_type": "stream",
     "text": [
      "D:\\anaconda\\lib\\site-packages\\IPython\\core\\interactiveshell.py:3468: UserWarning: To exit: use 'exit', 'quit', or Ctrl-D.\n",
      "  warn(\"To exit: use 'exit', 'quit', or Ctrl-D.\", stacklevel=1)\n"
     ]
    }
   ],
   "source": [
    "ai = AlienInvasion()\n",
    "ai.run_game()"
   ]
  },
  {
   "cell_type": "markdown",
   "id": "f2d64b64",
   "metadata": {},
   "source": [
    "创建Setting类，便于添加新的功能"
   ]
  },
  {
   "cell_type": "code",
   "execution_count": 3,
   "id": "f20c8295",
   "metadata": {},
   "outputs": [],
   "source": [
    "class Settings: \n",
    "    \"\"\"存储游戏《外星⼈⼊侵》中所有设置的类\"\"\" \n",
    "    def __init__(self): \n",
    " \n",
    "        self.screen_width = 1200 \n",
    "        self.screen_height = 800 \n",
    "        self.bg_color = (230, 230, 230)\n",
    "        self.ship_speed = 1.5\n",
    "        \n",
    "        # 加入子弹设置\n",
    "        self.bullet_speed = 2\n",
    "        self.bullet_width = 3\n",
    "        self.bullet_height = 15 \n",
    "        self.bullet_color = (60, 60, 60)\n",
    "        self.bullets_allowed = 3"
   ]
  },
  {
   "cell_type": "markdown",
   "id": "a021e54d",
   "metadata": {},
   "source": [
    "开始绘制飞船"
   ]
  },
  {
   "cell_type": "code",
   "execution_count": 2,
   "id": "3ba86ac5",
   "metadata": {},
   "outputs": [],
   "source": [
    "import pygame\n",
    "\n",
    "class Ship: \n",
    "    def __init__(self, ai_game):\n",
    "        self.screen = ai_game.screen \n",
    "        self.screen_rect = ai_game.screen.get_rect()\n",
    "        \n",
    "        # 加载⻜船图像并获取其外接矩形\n",
    "        self.image = pygame.image.load('image.png')\n",
    "        self.rect = self.image.get_rect()\n",
    "        \n",
    "        # 每艘新⻜船都放在屏幕底部的中央\n",
    "        self.rect.midbottom = self.screen_rect.midbottom\n",
    "        \n",
    "        # 在⻜船的属性x 中存储⼀个浮点数\n",
    "        self.x = float(self.rect.x)\n",
    "        \n",
    "        # 移动标志（⻜船⼀开始不移动）\n",
    "        self.moving_right = False\n",
    "        self.moving_left = False \n",
    "        \n",
    "        self.settings = ai_game.settings\n",
    "        \n",
    "    def update(self): \n",
    "        # 更新⻜船⽽不是rect对象的 x 值\n",
    "        if self.moving_right and self.rect.right < self.screen_rect.right:\n",
    "            self.x += self.settings.ship_speed \n",
    "        if self.moving_left and self.rect.left > 0:\n",
    "            self.x -= self.settings.ship_speed \n",
    "         # 根据self.x 更新rect对象\n",
    "        self.rect.x = self.x \n",
    "        \n",
    "        # 根据移动标志调整⻜船的位置\n",
    "        if self.moving_right: \n",
    "            self.rect.x += self.settings.ship_speed \n",
    "        if self.moving_left: \n",
    "            self.rect.x -= self.settings.ship_speed\n",
    "        \n",
    "        # 根据self.x 更新rect 的值对象\n",
    "        self.rect.x = self.x \n",
    "\n",
    "    def blitme(self):\n",
    "        # 在指定位置绘制⻜船\n",
    "        self.screen.blit(self.image, self.rect)"
   ]
  },
  {
   "cell_type": "markdown",
   "id": "c4b3233f",
   "metadata": {},
   "source": [
    "创建bullet类"
   ]
  },
  {
   "cell_type": "code",
   "execution_count": 1,
   "id": "428be7be",
   "metadata": {},
   "outputs": [
    {
     "name": "stdout",
     "output_type": "stream",
     "text": [
      "pygame 2.5.2 (SDL 2.28.3, Python 3.10.9)\n",
      "Hello from the pygame community. https://www.pygame.org/contribute.html\n"
     ]
    }
   ],
   "source": [
    "import pygame \n",
    "from pygame.sprite import Sprite\n",
    "\n",
    "class Bullet(Sprite):\n",
    "    \"\"\"管理飞船所有发射的子弹类\"\"\"\n",
    "    \n",
    "    def __init__(self, ai_game):\n",
    "        \"\"\"在飞船当前位置创建子弹\"\"\"\n",
    "        super().__init__()\n",
    "        self.screen = ai_game.screen \n",
    "        self.settings = ai_game.settings \n",
    "        self.color = self.settings.bullet_color\n",
    "        \n",
    "        # 在(0,0)处创建⼀个表⽰⼦弹的矩形，再设置正确的位置\n",
    "        self.rect = pygame.Rect(0, 0, self.settings.bullet_width,self.settings.bullet_height)\n",
    "        self.rect.midtop = ai_game.ship.rect.midtop\n",
    "        \n",
    "        # 存储⽤浮点数表⽰的⼦弹位置\n",
    "        self.y = float(self.rect.y)\n",
    "        \n",
    "    def update(self):\n",
    "        \"\"\"更新子弹的位置\"\"\"\n",
    "        self.y -= self.settings.bullet_speed\n",
    "        # 更新表⽰⼦弹的 rect 的位置\n",
    "        self.rect.y = self.y\n",
    "        \n",
    "    def draw_bullet(self):\n",
    "        \"\"\"在屏幕上绘制⼦弹\"\"\"\n",
    "        pygame.draw.rect(self.screen, self.color, self.rect)"
   ]
  },
  {
   "cell_type": "code",
   "execution_count": null,
   "id": "4b16d2d7",
   "metadata": {},
   "outputs": [],
   "source": []
  }
 ],
 "metadata": {
  "kernelspec": {
   "display_name": "Python 3 (ipykernel)",
   "language": "python",
   "name": "python3"
  },
  "language_info": {
   "codemirror_mode": {
    "name": "ipython",
    "version": 3
   },
   "file_extension": ".py",
   "mimetype": "text/x-python",
   "name": "python",
   "nbconvert_exporter": "python",
   "pygments_lexer": "ipython3",
   "version": "3.10.9"
  }
 },
 "nbformat": 4,
 "nbformat_minor": 5
}
