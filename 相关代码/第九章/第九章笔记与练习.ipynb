{
 "cells": [
  {
   "cell_type": "markdown",
   "id": "129ce943",
   "metadata": {},
   "source": [
    "## 9.1 创建和使⽤类    ！！！重要，因为之前都没咋用过"
   ]
  },
  {
   "cell_type": "code",
   "execution_count": 2,
   "id": "d0edfadd",
   "metadata": {},
   "outputs": [
    {
     "data": {
      "text/plain": [
       "'While'"
      ]
     },
     "execution_count": 2,
     "metadata": {},
     "output_type": "execute_result"
    }
   ],
   "source": [
    "class Dog:\n",
    "    \n",
    "    def __init__(self, name, age):   # 注意，这里的self是必要的！\n",
    "        self.name = name\n",
    "        self.age = age\n",
    "        \n",
    "    def sit(self):\n",
    "        # 模拟小狗坐下\n",
    "        print(f\"{self.name}\")\n",
    "    \n",
    "    def roll_over(self):\n",
    "        \n",
    "        print(f\"{self.age}\")\n",
    "\n",
    "# 特定的例子\n",
    "my_dog = Dog('While', 6)\n",
    "my_dog.name"
   ]
  },
  {
   "cell_type": "code",
   "execution_count": 3,
   "id": "9c1db477",
   "metadata": {},
   "outputs": [
    {
     "name": "stdout",
     "output_type": "stream",
     "text": [
      "While\n"
     ]
    }
   ],
   "source": [
    "# 调用构建好的类\n",
    "my_dog.sit()"
   ]
  },
  {
   "cell_type": "markdown",
   "id": "e204bbcb",
   "metadata": {},
   "source": [
    "### 9.1.1 练习"
   ]
  },
  {
   "cell_type": "code",
   "execution_count": 6,
   "id": "49486ec1",
   "metadata": {},
   "outputs": [
    {
     "data": {
      "text/plain": [
       "'aa'"
      ]
     },
     "execution_count": 6,
     "metadata": {},
     "output_type": "execute_result"
    }
   ],
   "source": [
    "# 1\n",
    "class Restaurant:\n",
    "    \n",
    "    def __init__(self, restaurant_name, cuisine_type):\n",
    "        self.restaurant_name = restaurant_name\n",
    "        self.cuisine_type = cuisine_type\n",
    "    \n",
    "    # 构建两个相关的函数\n",
    "    def describe_restaurant(self):\n",
    "        print(f\"{self.restaurant_name}, {self.cuisine_type}\")\n",
    "    \n",
    "    def open_restaurant(self):\n",
    "        print(\"Normal\")\n",
    "restaurant = Restaurant(\"aa\", \"BB\")\n",
    "restaurant.restaurant_name"
   ]
  },
  {
   "cell_type": "code",
   "execution_count": 7,
   "id": "120d78d8",
   "metadata": {},
   "outputs": [
    {
     "name": "stdout",
     "output_type": "stream",
     "text": [
      "a, b\n"
     ]
    }
   ],
   "source": [
    "# 2\n",
    "resaurant1 = Restaurant(\"a\", \"b\")\n",
    "resaurant1.describe_restaurant()"
   ]
  },
  {
   "cell_type": "code",
   "execution_count": 8,
   "id": "a218e0fb",
   "metadata": {},
   "outputs": [
    {
     "name": "stdout",
     "output_type": "stream",
     "text": [
      "User Profile:\n",
      "- First name: John\n",
      "- Last name: Doe\n",
      "- Age: 28\n",
      "- Email: johndoe@example.com\n",
      "Hello John Doe, welcome back!\n"
     ]
    }
   ],
   "source": [
    "# 3\n",
    "class User:\n",
    "    def __init__(self, first_name, last_name, age, email):\n",
    "        \"\"\"初始化用户\"\"\"\n",
    "        self.first_name = first_name\n",
    "        self.last_name = last_name\n",
    "        self.age = age\n",
    "        self.email = email\n",
    "\n",
    "    def describe_user(self):\n",
    "        \"\"\"打印用户信息摘要\"\"\"\n",
    "        print(f\"User Profile:\")\n",
    "        print(f\"- First name: {self.first_name}\")\n",
    "        print(f\"- Last name: {self.last_name}\")\n",
    "        print(f\"- Age: {self.age}\")\n",
    "        print(f\"- Email: {self.email}\")\n",
    "\n",
    "    def greet_user(self):\n",
    "        \"\"\"向用户发出个性化问候\"\"\"\n",
    "        print(f\"Hello {self.first_name} {self.last_name}, welcome back!\")\n",
    "\n",
    "# 使用User类创建一个实例\n",
    "user_1 = User('John', 'Doe', 28, 'johndoe@example.com')\n",
    "\n",
    "# 调用方法describe_user()和greet_user()\n",
    "user_1.describe_user()\n",
    "user_1.greet_user()"
   ]
  },
  {
   "cell_type": "markdown",
   "id": "817ef281",
   "metadata": {},
   "source": [
    "## 9.2 使⽤类和实例"
   ]
  },
  {
   "cell_type": "markdown",
   "id": "160ee7a3",
   "metadata": {},
   "source": [
    "### 9.2.1 修改属性的值"
   ]
  },
  {
   "cell_type": "markdown",
   "id": "f92ed3e6",
   "metadata": {},
   "source": [
    "这里主要说一下通过方法来修改"
   ]
  },
  {
   "cell_type": "code",
   "execution_count": 9,
   "id": "032f8ee9",
   "metadata": {},
   "outputs": [
    {
     "name": "stdout",
     "output_type": "stream",
     "text": [
      "This car has 23 miles on it.\n"
     ]
    }
   ],
   "source": [
    "class Car: \n",
    "    def __init__(self, make, model, year):\n",
    "        self.make = make\n",
    "        self.model = model\n",
    "        self.year = year\n",
    "        self.odometer_reading = 0 \n",
    "    \n",
    "    def read_odometer(self): \n",
    "        print(f\"This car has {self.odometer_reading} miles on it.\") \n",
    "    \n",
    "    # 用一个新的方法来修改\n",
    "    def update_odometer(self, mileage):\n",
    "        self.odometer_reading = mileage\n",
    "my_new_car = Car('audi', 'a4', 2024)\n",
    "my_new_car.update_odometer(23)\n",
    "my_new_car.read_odometer() "
   ]
  },
  {
   "cell_type": "markdown",
   "id": "f0710e47",
   "metadata": {},
   "source": [
    "### 9.2.2 练习"
   ]
  },
  {
   "cell_type": "code",
   "execution_count": 12,
   "id": "ab0c1d6a",
   "metadata": {},
   "outputs": [
    {
     "name": "stdout",
     "output_type": "stream",
     "text": [
      "User Profile:\n",
      "- First name: John\n",
      "- Last name: Doe\n",
      "- Age: 28\n",
      "- Email: johndoe@example.com\n",
      "Hello John Doe, welcome back!\n",
      "2\n"
     ]
    }
   ],
   "source": [
    "# 1\n",
    "class User:\n",
    "    def __init__(self, first_name, last_name, age, email):\n",
    "        \"\"\"初始化用户\"\"\"\n",
    "        self.first_name = first_name\n",
    "        self.last_name = last_name\n",
    "        self.age = age\n",
    "        self.email = email\n",
    "        self.login_attempts = 0\n",
    "\n",
    "    def describe_user(self):\n",
    "        \"\"\"打印用户信息摘要\"\"\"\n",
    "        print(f\"User Profile:\")\n",
    "        print(f\"- First name: {self.first_name}\")\n",
    "        print(f\"- Last name: {self.last_name}\")\n",
    "        print(f\"- Age: {self.age}\")\n",
    "        print(f\"- Email: {self.email}\")\n",
    "\n",
    "    def greet_user(self):\n",
    "        \"\"\"向用户发出个性化问候\"\"\"\n",
    "        print(f\"Hello {self.first_name} {self.last_name}, welcome back!\")\n",
    "    \n",
    "    # 让login_attempt +1\n",
    "    def increment_login_attempts(self):\n",
    "        self.login_attempts += 1\n",
    "    \n",
    "    # 归0\n",
    "    def reset_login_attempts() :\n",
    "        self.login_attempts = 0\n",
    "\n",
    "# 使用User类创建一个实例\n",
    "user_1 = User('John', 'Doe', 28, 'johndoe@example.com')\n",
    "\n",
    "# 调用方法describe_user()和greet_user()\n",
    "user_1.describe_user()\n",
    "user_1.greet_user()\n",
    "user_1.increment_login_attempts()\n",
    "user_1.increment_login_attempts()\n",
    "print(user_1.login_attempts)"
   ]
  },
  {
   "cell_type": "markdown",
   "id": "375502c4",
   "metadata": {},
   "source": [
    "## 9.3 继承！"
   ]
  },
  {
   "cell_type": "markdown",
   "id": "6938db3d",
   "metadata": {},
   "source": [
    "### 9.3.1 子类的 __init__ 方法"
   ]
  },
  {
   "cell_type": "code",
   "execution_count": 24,
   "id": "158c4ab1",
   "metadata": {},
   "outputs": [],
   "source": [
    "class Car: \n",
    "    def __init__(self, make, model, year):\n",
    "        self.make = make\n",
    "        self.model = model\n",
    "        self.year = year\n",
    "        self.odometer_reading = 0 \n",
    "    \n",
    "    def read_odometer(self): \n",
    "        print(f\"This car has {self.odometer_reading} miles on it.\") \n",
    "    \n",
    "    # 用一个新的方法来修改\n",
    "    def update_odometer(self, mileage):\n",
    "        self.odometer_reading = mileage\n",
    "\n",
    "# 子类\n",
    "class ElectricCar(Car):\n",
    "    # 初始化父类属性\n",
    "    def  __init__(self, make, model, year): \n",
    "        super().__init__(make, model, year)"
   ]
  },
  {
   "cell_type": "markdown",
   "id": "d3660311",
   "metadata": {},
   "source": [
    "### 9.3.2 给⼦类定义属性和⽅法"
   ]
  },
  {
   "cell_type": "code",
   "execution_count": 23,
   "id": "895ca658",
   "metadata": {},
   "outputs": [
    {
     "ename": "SyntaxError",
     "evalue": "incomplete input (213385425.py, line 13)",
     "output_type": "error",
     "traceback": [
      "\u001b[1;36m  Cell \u001b[1;32mIn[23], line 13\u001b[1;36m\u001b[0m\n\u001b[1;33m    def update_odometer(self, mileage):\u001b[0m\n\u001b[1;37m                                       ^\u001b[0m\n\u001b[1;31mSyntaxError\u001b[0m\u001b[1;31m:\u001b[0m incomplete input\n"
     ]
    }
   ],
   "source": [
    "class ElectricCar(Car):\n",
    "    # 初始化父类属性\n",
    "    def  __init__(self, make, model, year): \n",
    "        super().__init__(make, model, year)\n",
    "        self.battery_size = 40 "
   ]
  },
  {
   "cell_type": "markdown",
   "id": "d5552664",
   "metadata": {},
   "source": [
    "### 9.3.3 将实例⽤作属性 (实质是将大的类化为小的类的组合)"
   ]
  },
  {
   "cell_type": "markdown",
   "id": "6192c23f",
   "metadata": {},
   "source": [
    "### 9.3.4 模拟实物"
   ]
  },
  {
   "cell_type": "code",
   "execution_count": 25,
   "id": "9d5542b2",
   "metadata": {},
   "outputs": [
    {
     "name": "stdout",
     "output_type": "stream",
     "text": [
      "The Sweet Cone serves wonderful ice cream.\n",
      "We have the following flavors available: ['vanilla', 'chocolate', 'strawberry', 'mint']\n"
     ]
    }
   ],
   "source": [
    "# 1\n",
    "class Restaurant:\n",
    "    \"\"\"一个描述餐厅的类\"\"\"\n",
    "    def __init__(self, restaurant_name, cuisine_type):\n",
    "        \"\"\"初始化餐厅属性\"\"\"\n",
    "        self.restaurant_name = restaurant_name\n",
    "        self.cuisine_type = cuisine_type\n",
    "\n",
    "    def describe_restaurant(self):\n",
    "        \"\"\"描述餐厅\"\"\"\n",
    "        print(f\"{self.restaurant_name} serves wonderful {self.cuisine_type}.\")\n",
    "\n",
    "    def open_restaurant(self):\n",
    "        \"\"\"显示一条消息，指出餐厅正在营业\"\"\"\n",
    "        print(f\"{self.restaurant_name} is open. Come on in!\")\n",
    "\n",
    "# 现在定义IceCreamStand类，它继承自Restaurant\n",
    "class IceCreamStand(Restaurant):\n",
    "    \"\"\"描述冰激凌小店的类\"\"\"\n",
    "    def __init__(self, name, cuisine_type='ice cream'):\n",
    "        \"\"\"初始化冰激凌小店属性\"\"\"\n",
    "        super().__init__(name, cuisine_type)\n",
    "        # 假设有一些默认的口味\n",
    "        self.flavors = ['vanilla', 'chocolate', 'strawberry', 'mint']\n",
    "\n",
    "    def show_flavors(self):\n",
    "        \"\"\"显示所有口味的冰激凌\"\"\"\n",
    "        print(f\"We have the following flavors available: {self.flavors}\")\n",
    "\n",
    "# 接下来创建IceCreamStand的实例\n",
    "ice_cream_stand = IceCreamStand('The Sweet Cone')\n",
    "\n",
    "# 调用describe_restaurant()和show_flavors()方法\n",
    "ice_cream_stand.describe_restaurant()\n",
    "ice_cream_stand.show_flavors()"
   ]
  },
  {
   "cell_type": "code",
   "execution_count": 3,
   "id": "fa6a53fb",
   "metadata": {},
   "outputs": [
    {
     "name": "stdout",
     "output_type": "stream",
     "text": [
      "['can add post', 'can delete post']\n"
     ]
    }
   ],
   "source": [
    "# 2\n",
    "class User:\n",
    "    def __init__(self, first_name, last_name, age, email):\n",
    "        \"\"\"初始化用户\"\"\"\n",
    "        self.first_name = first_name\n",
    "        self.last_name = last_name\n",
    "        self.age = age\n",
    "        self.email = email\n",
    "        self.login_attempts = 0\n",
    "\n",
    "    def describe_user(self):\n",
    "        \"\"\"打印用户信息摘要\"\"\"\n",
    "        print(f\"User Profile:\")\n",
    "        print(f\"- First name: {self.first_name}\")\n",
    "        print(f\"- Last name: {self.last_name}\")\n",
    "        print(f\"- Age: {self.age}\")\n",
    "        print(f\"- Email: {self.email}\")\n",
    "\n",
    "    def greet_user(self):\n",
    "        \"\"\"向用户发出个性化问候\"\"\"\n",
    "        print(f\"Hello {self.first_name} {self.last_name}, welcome back!\")\n",
    "    \n",
    "    # 让login_attempt +1\n",
    "    def increment_login_attempts(self):\n",
    "        self.login_attempts += 1\n",
    "    \n",
    "    # 归0\n",
    "    def reset_login_attempts() :\n",
    "        self.login_attempts = 0\n",
    "\n",
    "# 继承上述的类\n",
    "class Admin(User):\n",
    "    def __init__(self, first_name, last_name, age, email):\n",
    "        # 初始化继承的类\n",
    "        super().__init__(first_name, last_name, age, email)\n",
    "        \n",
    "        # 添加一个priiviliages 的属性\n",
    "        self.privileges = [\"can add post\", \"can delete post\"]\n",
    "    \n",
    "    # 写出对应的方法\n",
    "    def show_priviliage(self):\n",
    "        print(self.privileges)\n",
    "\n",
    "# 创建实例\n",
    "user_1 = Admin('John', 'Doe', 28, 'johndoe@example.com')\n",
    "user_1.show_priviliage()"
   ]
  },
  {
   "cell_type": "code",
   "execution_count": 14,
   "id": "57c08ecb",
   "metadata": {},
   "outputs": [
    {
     "name": "stdout",
     "output_type": "stream",
     "text": [
      "28\n"
     ]
    }
   ],
   "source": [
    "# 3\n",
    "# 创建priviliages 类\n",
    "class Priviliages:\n",
    "    \n",
    "    def __init__(self, privileages):\n",
    "        self.privileages = privileages\n",
    "    \n",
    "    # 构建问题2中的方法\n",
    "    def show_priviliage(self):\n",
    "        print(self.privileages)\n",
    "\n",
    "# 继续使用问题3中构建好的类\n",
    "class Admin(User):\n",
    "    def __init__(self, first_name, last_name, age, email):\n",
    "        # 初始化继承的类\n",
    "        super().__init__(first_name, last_name, age, email)\n",
    "        \n",
    "        # 添加一个priiviliages 的属性\n",
    "        self.privileges = Priviliages(age)\n",
    "    \n",
    "user_1 = Admin('John', 'Doe', 28, 'johndoe@example.com')\n",
    "user_1.privileges.show_priviliage()"
   ]
  },
  {
   "cell_type": "markdown",
   "id": "126ee609",
   "metadata": {},
   "source": [
    "在这里继承的时候，能够调用的参数一定是在__init__中的？"
   ]
  },
  {
   "cell_type": "markdown",
   "id": "59bcb091",
   "metadata": {},
   "source": [
    "  "
   ]
  },
  {
   "cell_type": "markdown",
   "id": "fe146e46",
   "metadata": {},
   "source": [
    "## 9.4 导入类"
   ]
  },
  {
   "cell_type": "markdown",
   "id": "1c9fff93",
   "metadata": {},
   "source": [
    "### 9.4.1 这其实就是在调用其他作者写的好的包的一种方法"
   ]
  },
  {
   "cell_type": "markdown",
   "id": "9cf2d9a1",
   "metadata": {},
   "source": [
    "### 9.5 练习"
   ]
  },
  {
   "cell_type": "code",
   "execution_count": 17,
   "id": "bfeb2bfc",
   "metadata": {},
   "outputs": [
    {
     "name": "stdout",
     "output_type": "stream",
     "text": [
      "10 rolls of a 6-sided die:\n",
      "3 1 4 3 6 6 1 3 1 1 \n",
      "\n",
      "10 rolls of a 10-sided die:\n",
      "2 4 4 1 2 3 1 1 5 5 \n",
      "\n"
     ]
    }
   ],
   "source": [
    "# 1\n",
    "import random\n",
    "\n",
    "class Die:\n",
    "    \"\"\"表示一个骰子的类\"\"\"\n",
    "    def __init__(self):\n",
    "        \"\"\"初始化骰子的属性\"\"\"\n",
    "        self.sides = 6\n",
    "        \n",
    "    def roll_die(self):\n",
    "        \"\"\"返回一个位于1和骰子面数之间的随机数\"\"\"\n",
    "        return random.randint(1, self.sides)\n",
    "\n",
    "# 创建一个6面的骰子并掷10次\n",
    "die_6 = Die()\n",
    "print(\"10 rolls of a 6-sided die:\")\n",
    "for roll in range(10):\n",
    "    print(die_6.roll_die(), end=' ')\n",
    "print(\"\\n\")\n",
    "\n",
    "# 创建一个10面的骰子并掷10次\n",
    "Die.sides = 10\n",
    "die_10 = Die()\n",
    "print(\"10 rolls of a 10-sided die:\")\n",
    "for roll in range(10):\n",
    "    print(die_10.roll_die(), end=' ')\n",
    "print(\"\\n\")"
   ]
  }
 ],
 "metadata": {
  "kernelspec": {
   "display_name": "Python 3 (ipykernel)",
   "language": "python",
   "name": "python3"
  },
  "language_info": {
   "codemirror_mode": {
    "name": "ipython",
    "version": 3
   },
   "file_extension": ".py",
   "mimetype": "text/x-python",
   "name": "python",
   "nbconvert_exporter": "python",
   "pygments_lexer": "ipython3",
   "version": "3.10.9"
  }
 },
 "nbformat": 4,
 "nbformat_minor": 5
}
